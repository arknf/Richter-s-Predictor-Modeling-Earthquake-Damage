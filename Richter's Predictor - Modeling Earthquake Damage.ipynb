{
 "cells": [
  {
   "cell_type": "markdown",
   "metadata": {},
   "source": [
    "### Column Description\n",
    "\n",
    "1. geo_level_1_id, geo_level_2_id, geo_level_3_id (type: int): geographic region in which building exists, from largest (level 1) to most specific sub-region (level 3). Possible values: level 1: 0-30, level 2: 0-1427, level 3: 0-12567.\n",
    "\n",
    "2. count_floors_pre_eq (type: int): number of floors in the building before the earthquake.\n",
    "\n",
    "3. age (type: int): age of the building in years.\n",
    "\n",
    "4. area_percentage (type: int): normalized area of the building footprint.\n",
    "\n",
    "5. height_percentage (type: int): normalized height of the building footprint.\n",
    "\n",
    "6. land_surface_condition (type: categorical): surface condition of the land where the building was built. Possible values: n, o, t.\n",
    "\n",
    "7. foundation_type (type: categorical): type of foundation used while building. Possible values: h, i, r, u, w.\n",
    "\n",
    "8. roof_type (type: categorical): type of roof used while building. Possible values: n, q, x.\n",
    "\n",
    "9. ground_floor_type (type: categorical): type of the ground floor. Possible values: f, m, v, x, z.\n",
    "\n",
    "10. other_floor_type (type: categorical): type of constructions used in higher than the ground floors (except of roof). Possible values: j, q, s, x.\n",
    "\n",
    "11. position (type: categorical): position of the building. Possible values: j, o, s, t.\n",
    "\n",
    "12. plan_configuration (type: categorical): building plan configuration. Possible values: a, c, d, f, m, n, o, q, s, u.\n",
    "\n",
    "13. has_superstructure_adobe_mud (type: binary): flag variable that indicates if the superstructure was made of Adobe/Mud.\n",
    "\n",
    "14. has_superstructure_mud_mortar_stone (type: binary): flag variable that indicates if the superstructure was made of Mud Mortar - Stone.\n",
    "\n",
    "15. has_superstructure_stone_flag (type: binary): flag variable that indicates if the superstructure was made of Stone.\n",
    "\n",
    "16. has_superstructure_cement_mortar_stone (type: binary): flag variable that indicates if the superstructure was made of Cement Mortar - Stone.\n",
    "\n",
    "17. has_superstructure_mud_mortar_brick (type: binary): flag variable that indicates if the superstructure was made of Mud Mortar - Brick.\n",
    "\n",
    "18. has_superstructure_cement_mortar_brick (type: binary): flag variable that indicates if the superstructure was made of Cement Mortar - Brick.\n",
    "\n",
    "19. has_superstructure_timber (type: binary): flag variable that indicates if the superstructure was made of Timber.\n",
    "\n",
    "20. has_superstructure_bamboo (type: binary): flag variable that indicates if the superstructure was made of Bamboo.\n",
    "\n",
    "21. has_superstructure_rc_non_engineered (type: binary): flag variable that indicates if the superstructure was made of non-engineered reinforced concrete.\n",
    "\n",
    "22. has_superstructure_rc_engineered (type: binary): flag variable that indicates if the superstructure was made of engineered reinforced concrete.\n",
    "\n",
    "23. has_superstructure_other (type: binary): flag variable that indicates if the superstructure was made of any other material.\n",
    "\n",
    "24. legal_ownership_status (type: categorical): legal ownership status of the land where building was built. Possible values: a, r, v, w.\n",
    "\n",
    "25. count_families (type: int): number of families that live in the building.\n",
    "\n",
    "26. has_secondary_use (type: binary): flag variable that indicates if the building was used for any secondary purpose.\n",
    "\n",
    "27. has_secondary_use_agriculture (type: binary): flag variable that indicates if the building was used for agricultural purposes.\n",
    "\n",
    "28. has_secondary_use_hotel (type: binary): flag variable that indicates if the building was used as a hotel.\n",
    "\n",
    "29. has_secondary_use_rental (type: binary): flag variable that indicates if the building was used for rental purposes.\n",
    "\n",
    "30. has_secondary_use_institution (type: binary): flag variable that indicates if the building was used as a location of any institution.\n",
    "\n",
    "31. has_secondary_use_school (type: binary): flag variable that indicates if the building was used as a school.\n",
    "\n",
    "32. has_secondary_use_industry (type: binary): flag variable that indicates if the building was used for industrial purposes.\n",
    "\n",
    "33. has_secondary_use_health_post (type: binary): flag variable that indicates if the building was used as a health post.\n",
    "\n",
    "34. has_secondary_use_gov_office (type: binary): flag variable that indicates if the building was used fas a government office.\n",
    "\n",
    "35. has_secondary_use_use_police (type: binary): flag variable that indicates if the building was used as a police station.\n",
    "\n",
    "36. has_secondary_use_other (type: binary): flag variable that indicates if the building was secondarily used for other purposes."
   ]
  },
  {
   "cell_type": "markdown",
   "metadata": {},
   "source": [
    "#### IMPORT LIBRARIES"
   ]
  },
  {
   "cell_type": "code",
   "execution_count": 33,
   "metadata": {},
   "outputs": [],
   "source": [
    "import warnings\n",
    "warnings.filterwarnings('ignore')\n",
    "\n",
    "import pandas as pd\n",
    "import numpy as np\n",
    "import matplotlib.pyplot as plt\n",
    "import seaborn as sns\n",
    "from sklearn.model_selection import train_test_split\n",
    "from sklearn.pipeline import Pipeline\n",
    "from sklearn.preprocessing import StandardScaler, OneHotEncoder\n",
    "from sklearn.compose import ColumnTransformer\n",
    "from sklearn.ensemble import RandomForestClassifier\n",
    "from sklearn.neighbors import KNeighborsClassifier\n",
    "from xgboost import XGBClassifier\n",
    "from sklearn.model_selection import RandomizedSearchCV\n",
    "from sklearn.metrics import accuracy_score, f1_score"
   ]
  },
  {
   "cell_type": "markdown",
   "metadata": {},
   "source": [
    "#### IMPORT DATA"
   ]
  },
  {
   "cell_type": "code",
   "execution_count": 2,
   "metadata": {},
   "outputs": [],
   "source": [
    "train_values = pd.read_csv('./Dataset/Modeling Earthquake Damage/train_values.csv')\n",
    "train_labels = pd.read_csv('./Dataset/Modeling Earthquake Damage/train_labels.csv')\n",
    "test_values = pd.read_csv('./Dataset/Modeling Earthquake Damage/test_values.csv')\n",
    "submission_format = pd.read_csv('./Dataset/Modeling Earthquake Damage/submission_format.csv')"
   ]
  },
  {
   "cell_type": "code",
   "execution_count": 3,
   "metadata": {},
   "outputs": [],
   "source": [
    "#define function to displaying all row in data\n",
    "\n",
    "def display_all(df):\n",
    "    with pd.option_context('display.max_rows', None):\n",
    "        with pd.option_context('display.max_columns', None):\n",
    "            display(df)"
   ]
  },
  {
   "cell_type": "code",
   "execution_count": 4,
   "metadata": {},
   "outputs": [
    {
     "data": {
      "text/html": [
       "<div>\n",
       "<style scoped>\n",
       "    .dataframe tbody tr th:only-of-type {\n",
       "        vertical-align: middle;\n",
       "    }\n",
       "\n",
       "    .dataframe tbody tr th {\n",
       "        vertical-align: top;\n",
       "    }\n",
       "\n",
       "    .dataframe thead th {\n",
       "        text-align: right;\n",
       "    }\n",
       "</style>\n",
       "<table border=\"1\" class=\"dataframe\">\n",
       "  <thead>\n",
       "    <tr style=\"text-align: right;\">\n",
       "      <th></th>\n",
       "      <th>building_id</th>\n",
       "      <th>geo_level_1_id</th>\n",
       "      <th>geo_level_2_id</th>\n",
       "      <th>geo_level_3_id</th>\n",
       "      <th>count_floors_pre_eq</th>\n",
       "      <th>age</th>\n",
       "      <th>area_percentage</th>\n",
       "      <th>height_percentage</th>\n",
       "      <th>land_surface_condition</th>\n",
       "      <th>foundation_type</th>\n",
       "      <th>roof_type</th>\n",
       "      <th>ground_floor_type</th>\n",
       "      <th>other_floor_type</th>\n",
       "      <th>position</th>\n",
       "      <th>plan_configuration</th>\n",
       "      <th>has_superstructure_adobe_mud</th>\n",
       "      <th>has_superstructure_mud_mortar_stone</th>\n",
       "      <th>has_superstructure_stone_flag</th>\n",
       "      <th>has_superstructure_cement_mortar_stone</th>\n",
       "      <th>has_superstructure_mud_mortar_brick</th>\n",
       "      <th>has_superstructure_cement_mortar_brick</th>\n",
       "      <th>has_superstructure_timber</th>\n",
       "      <th>has_superstructure_bamboo</th>\n",
       "      <th>has_superstructure_rc_non_engineered</th>\n",
       "      <th>has_superstructure_rc_engineered</th>\n",
       "      <th>has_superstructure_other</th>\n",
       "      <th>legal_ownership_status</th>\n",
       "      <th>count_families</th>\n",
       "      <th>has_secondary_use</th>\n",
       "      <th>has_secondary_use_agriculture</th>\n",
       "      <th>has_secondary_use_hotel</th>\n",
       "      <th>has_secondary_use_rental</th>\n",
       "      <th>has_secondary_use_institution</th>\n",
       "      <th>has_secondary_use_school</th>\n",
       "      <th>has_secondary_use_industry</th>\n",
       "      <th>has_secondary_use_health_post</th>\n",
       "      <th>has_secondary_use_gov_office</th>\n",
       "      <th>has_secondary_use_use_police</th>\n",
       "      <th>has_secondary_use_other</th>\n",
       "    </tr>\n",
       "  </thead>\n",
       "  <tbody>\n",
       "    <tr>\n",
       "      <th>0</th>\n",
       "      <td>802906</td>\n",
       "      <td>6</td>\n",
       "      <td>487</td>\n",
       "      <td>12198</td>\n",
       "      <td>2</td>\n",
       "      <td>30</td>\n",
       "      <td>6</td>\n",
       "      <td>5</td>\n",
       "      <td>t</td>\n",
       "      <td>r</td>\n",
       "      <td>n</td>\n",
       "      <td>f</td>\n",
       "      <td>q</td>\n",
       "      <td>t</td>\n",
       "      <td>d</td>\n",
       "      <td>1</td>\n",
       "      <td>1</td>\n",
       "      <td>0</td>\n",
       "      <td>0</td>\n",
       "      <td>0</td>\n",
       "      <td>0</td>\n",
       "      <td>0</td>\n",
       "      <td>0</td>\n",
       "      <td>0</td>\n",
       "      <td>0</td>\n",
       "      <td>0</td>\n",
       "      <td>v</td>\n",
       "      <td>1</td>\n",
       "      <td>0</td>\n",
       "      <td>0</td>\n",
       "      <td>0</td>\n",
       "      <td>0</td>\n",
       "      <td>0</td>\n",
       "      <td>0</td>\n",
       "      <td>0</td>\n",
       "      <td>0</td>\n",
       "      <td>0</td>\n",
       "      <td>0</td>\n",
       "      <td>0</td>\n",
       "    </tr>\n",
       "    <tr>\n",
       "      <th>1</th>\n",
       "      <td>28830</td>\n",
       "      <td>8</td>\n",
       "      <td>900</td>\n",
       "      <td>2812</td>\n",
       "      <td>2</td>\n",
       "      <td>10</td>\n",
       "      <td>8</td>\n",
       "      <td>7</td>\n",
       "      <td>o</td>\n",
       "      <td>r</td>\n",
       "      <td>n</td>\n",
       "      <td>x</td>\n",
       "      <td>q</td>\n",
       "      <td>s</td>\n",
       "      <td>d</td>\n",
       "      <td>0</td>\n",
       "      <td>1</td>\n",
       "      <td>0</td>\n",
       "      <td>0</td>\n",
       "      <td>0</td>\n",
       "      <td>0</td>\n",
       "      <td>0</td>\n",
       "      <td>0</td>\n",
       "      <td>0</td>\n",
       "      <td>0</td>\n",
       "      <td>0</td>\n",
       "      <td>v</td>\n",
       "      <td>1</td>\n",
       "      <td>0</td>\n",
       "      <td>0</td>\n",
       "      <td>0</td>\n",
       "      <td>0</td>\n",
       "      <td>0</td>\n",
       "      <td>0</td>\n",
       "      <td>0</td>\n",
       "      <td>0</td>\n",
       "      <td>0</td>\n",
       "      <td>0</td>\n",
       "      <td>0</td>\n",
       "    </tr>\n",
       "    <tr>\n",
       "      <th>2</th>\n",
       "      <td>94947</td>\n",
       "      <td>21</td>\n",
       "      <td>363</td>\n",
       "      <td>8973</td>\n",
       "      <td>2</td>\n",
       "      <td>10</td>\n",
       "      <td>5</td>\n",
       "      <td>5</td>\n",
       "      <td>t</td>\n",
       "      <td>r</td>\n",
       "      <td>n</td>\n",
       "      <td>f</td>\n",
       "      <td>x</td>\n",
       "      <td>t</td>\n",
       "      <td>d</td>\n",
       "      <td>0</td>\n",
       "      <td>1</td>\n",
       "      <td>0</td>\n",
       "      <td>0</td>\n",
       "      <td>0</td>\n",
       "      <td>0</td>\n",
       "      <td>0</td>\n",
       "      <td>0</td>\n",
       "      <td>0</td>\n",
       "      <td>0</td>\n",
       "      <td>0</td>\n",
       "      <td>v</td>\n",
       "      <td>1</td>\n",
       "      <td>0</td>\n",
       "      <td>0</td>\n",
       "      <td>0</td>\n",
       "      <td>0</td>\n",
       "      <td>0</td>\n",
       "      <td>0</td>\n",
       "      <td>0</td>\n",
       "      <td>0</td>\n",
       "      <td>0</td>\n",
       "      <td>0</td>\n",
       "      <td>0</td>\n",
       "    </tr>\n",
       "    <tr>\n",
       "      <th>3</th>\n",
       "      <td>590882</td>\n",
       "      <td>22</td>\n",
       "      <td>418</td>\n",
       "      <td>10694</td>\n",
       "      <td>2</td>\n",
       "      <td>10</td>\n",
       "      <td>6</td>\n",
       "      <td>5</td>\n",
       "      <td>t</td>\n",
       "      <td>r</td>\n",
       "      <td>n</td>\n",
       "      <td>f</td>\n",
       "      <td>x</td>\n",
       "      <td>s</td>\n",
       "      <td>d</td>\n",
       "      <td>0</td>\n",
       "      <td>1</td>\n",
       "      <td>0</td>\n",
       "      <td>0</td>\n",
       "      <td>0</td>\n",
       "      <td>0</td>\n",
       "      <td>1</td>\n",
       "      <td>1</td>\n",
       "      <td>0</td>\n",
       "      <td>0</td>\n",
       "      <td>0</td>\n",
       "      <td>v</td>\n",
       "      <td>1</td>\n",
       "      <td>0</td>\n",
       "      <td>0</td>\n",
       "      <td>0</td>\n",
       "      <td>0</td>\n",
       "      <td>0</td>\n",
       "      <td>0</td>\n",
       "      <td>0</td>\n",
       "      <td>0</td>\n",
       "      <td>0</td>\n",
       "      <td>0</td>\n",
       "      <td>0</td>\n",
       "    </tr>\n",
       "    <tr>\n",
       "      <th>4</th>\n",
       "      <td>201944</td>\n",
       "      <td>11</td>\n",
       "      <td>131</td>\n",
       "      <td>1488</td>\n",
       "      <td>3</td>\n",
       "      <td>30</td>\n",
       "      <td>8</td>\n",
       "      <td>9</td>\n",
       "      <td>t</td>\n",
       "      <td>r</td>\n",
       "      <td>n</td>\n",
       "      <td>f</td>\n",
       "      <td>x</td>\n",
       "      <td>s</td>\n",
       "      <td>d</td>\n",
       "      <td>1</td>\n",
       "      <td>0</td>\n",
       "      <td>0</td>\n",
       "      <td>0</td>\n",
       "      <td>0</td>\n",
       "      <td>0</td>\n",
       "      <td>0</td>\n",
       "      <td>0</td>\n",
       "      <td>0</td>\n",
       "      <td>0</td>\n",
       "      <td>0</td>\n",
       "      <td>v</td>\n",
       "      <td>1</td>\n",
       "      <td>0</td>\n",
       "      <td>0</td>\n",
       "      <td>0</td>\n",
       "      <td>0</td>\n",
       "      <td>0</td>\n",
       "      <td>0</td>\n",
       "      <td>0</td>\n",
       "      <td>0</td>\n",
       "      <td>0</td>\n",
       "      <td>0</td>\n",
       "      <td>0</td>\n",
       "    </tr>\n",
       "  </tbody>\n",
       "</table>\n",
       "</div>"
      ],
      "text/plain": [
       "   building_id  geo_level_1_id  geo_level_2_id  geo_level_3_id  \\\n",
       "0       802906               6             487           12198   \n",
       "1        28830               8             900            2812   \n",
       "2        94947              21             363            8973   \n",
       "3       590882              22             418           10694   \n",
       "4       201944              11             131            1488   \n",
       "\n",
       "   count_floors_pre_eq  age  area_percentage  height_percentage  \\\n",
       "0                    2   30                6                  5   \n",
       "1                    2   10                8                  7   \n",
       "2                    2   10                5                  5   \n",
       "3                    2   10                6                  5   \n",
       "4                    3   30                8                  9   \n",
       "\n",
       "  land_surface_condition foundation_type roof_type ground_floor_type  \\\n",
       "0                      t               r         n                 f   \n",
       "1                      o               r         n                 x   \n",
       "2                      t               r         n                 f   \n",
       "3                      t               r         n                 f   \n",
       "4                      t               r         n                 f   \n",
       "\n",
       "  other_floor_type position plan_configuration  has_superstructure_adobe_mud  \\\n",
       "0                q        t                  d                             1   \n",
       "1                q        s                  d                             0   \n",
       "2                x        t                  d                             0   \n",
       "3                x        s                  d                             0   \n",
       "4                x        s                  d                             1   \n",
       "\n",
       "   has_superstructure_mud_mortar_stone  has_superstructure_stone_flag  \\\n",
       "0                                    1                              0   \n",
       "1                                    1                              0   \n",
       "2                                    1                              0   \n",
       "3                                    1                              0   \n",
       "4                                    0                              0   \n",
       "\n",
       "   has_superstructure_cement_mortar_stone  \\\n",
       "0                                       0   \n",
       "1                                       0   \n",
       "2                                       0   \n",
       "3                                       0   \n",
       "4                                       0   \n",
       "\n",
       "   has_superstructure_mud_mortar_brick  \\\n",
       "0                                    0   \n",
       "1                                    0   \n",
       "2                                    0   \n",
       "3                                    0   \n",
       "4                                    0   \n",
       "\n",
       "   has_superstructure_cement_mortar_brick  has_superstructure_timber  \\\n",
       "0                                       0                          0   \n",
       "1                                       0                          0   \n",
       "2                                       0                          0   \n",
       "3                                       0                          1   \n",
       "4                                       0                          0   \n",
       "\n",
       "   has_superstructure_bamboo  has_superstructure_rc_non_engineered  \\\n",
       "0                          0                                     0   \n",
       "1                          0                                     0   \n",
       "2                          0                                     0   \n",
       "3                          1                                     0   \n",
       "4                          0                                     0   \n",
       "\n",
       "   has_superstructure_rc_engineered  has_superstructure_other  \\\n",
       "0                                 0                         0   \n",
       "1                                 0                         0   \n",
       "2                                 0                         0   \n",
       "3                                 0                         0   \n",
       "4                                 0                         0   \n",
       "\n",
       "  legal_ownership_status  count_families  has_secondary_use  \\\n",
       "0                      v               1                  0   \n",
       "1                      v               1                  0   \n",
       "2                      v               1                  0   \n",
       "3                      v               1                  0   \n",
       "4                      v               1                  0   \n",
       "\n",
       "   has_secondary_use_agriculture  has_secondary_use_hotel  \\\n",
       "0                              0                        0   \n",
       "1                              0                        0   \n",
       "2                              0                        0   \n",
       "3                              0                        0   \n",
       "4                              0                        0   \n",
       "\n",
       "   has_secondary_use_rental  has_secondary_use_institution  \\\n",
       "0                         0                              0   \n",
       "1                         0                              0   \n",
       "2                         0                              0   \n",
       "3                         0                              0   \n",
       "4                         0                              0   \n",
       "\n",
       "   has_secondary_use_school  has_secondary_use_industry  \\\n",
       "0                         0                           0   \n",
       "1                         0                           0   \n",
       "2                         0                           0   \n",
       "3                         0                           0   \n",
       "4                         0                           0   \n",
       "\n",
       "   has_secondary_use_health_post  has_secondary_use_gov_office  \\\n",
       "0                              0                             0   \n",
       "1                              0                             0   \n",
       "2                              0                             0   \n",
       "3                              0                             0   \n",
       "4                              0                             0   \n",
       "\n",
       "   has_secondary_use_use_police  has_secondary_use_other  \n",
       "0                             0                        0  \n",
       "1                             0                        0  \n",
       "2                             0                        0  \n",
       "3                             0                        0  \n",
       "4                             0                        0  "
      ]
     },
     "metadata": {},
     "output_type": "display_data"
    }
   ],
   "source": [
    "display_all(train_values.head())"
   ]
  },
  {
   "cell_type": "code",
   "execution_count": 5,
   "metadata": {},
   "outputs": [
    {
     "data": {
      "text/html": [
       "<div>\n",
       "<style scoped>\n",
       "    .dataframe tbody tr th:only-of-type {\n",
       "        vertical-align: middle;\n",
       "    }\n",
       "\n",
       "    .dataframe tbody tr th {\n",
       "        vertical-align: top;\n",
       "    }\n",
       "\n",
       "    .dataframe thead th {\n",
       "        text-align: right;\n",
       "    }\n",
       "</style>\n",
       "<table border=\"1\" class=\"dataframe\">\n",
       "  <thead>\n",
       "    <tr style=\"text-align: right;\">\n",
       "      <th></th>\n",
       "      <th>building_id</th>\n",
       "      <th>damage_grade</th>\n",
       "    </tr>\n",
       "  </thead>\n",
       "  <tbody>\n",
       "    <tr>\n",
       "      <th>0</th>\n",
       "      <td>802906</td>\n",
       "      <td>3</td>\n",
       "    </tr>\n",
       "    <tr>\n",
       "      <th>1</th>\n",
       "      <td>28830</td>\n",
       "      <td>2</td>\n",
       "    </tr>\n",
       "    <tr>\n",
       "      <th>2</th>\n",
       "      <td>94947</td>\n",
       "      <td>3</td>\n",
       "    </tr>\n",
       "    <tr>\n",
       "      <th>3</th>\n",
       "      <td>590882</td>\n",
       "      <td>2</td>\n",
       "    </tr>\n",
       "    <tr>\n",
       "      <th>4</th>\n",
       "      <td>201944</td>\n",
       "      <td>3</td>\n",
       "    </tr>\n",
       "  </tbody>\n",
       "</table>\n",
       "</div>"
      ],
      "text/plain": [
       "   building_id  damage_grade\n",
       "0       802906             3\n",
       "1        28830             2\n",
       "2        94947             3\n",
       "3       590882             2\n",
       "4       201944             3"
      ]
     },
     "metadata": {},
     "output_type": "display_data"
    }
   ],
   "source": [
    "display_all(train_labels.head())"
   ]
  },
  {
   "cell_type": "markdown",
   "metadata": {},
   "source": [
    "#### MERGING TRAIN DATA"
   ]
  },
  {
   "cell_type": "code",
   "execution_count": 6,
   "metadata": {},
   "outputs": [
    {
     "data": {
      "text/html": [
       "<div>\n",
       "<style scoped>\n",
       "    .dataframe tbody tr th:only-of-type {\n",
       "        vertical-align: middle;\n",
       "    }\n",
       "\n",
       "    .dataframe tbody tr th {\n",
       "        vertical-align: top;\n",
       "    }\n",
       "\n",
       "    .dataframe thead th {\n",
       "        text-align: right;\n",
       "    }\n",
       "</style>\n",
       "<table border=\"1\" class=\"dataframe\">\n",
       "  <thead>\n",
       "    <tr style=\"text-align: right;\">\n",
       "      <th></th>\n",
       "      <th>building_id</th>\n",
       "      <th>geo_level_1_id</th>\n",
       "      <th>geo_level_2_id</th>\n",
       "      <th>geo_level_3_id</th>\n",
       "      <th>count_floors_pre_eq</th>\n",
       "      <th>age</th>\n",
       "      <th>area_percentage</th>\n",
       "      <th>height_percentage</th>\n",
       "      <th>land_surface_condition</th>\n",
       "      <th>foundation_type</th>\n",
       "      <th>roof_type</th>\n",
       "      <th>ground_floor_type</th>\n",
       "      <th>other_floor_type</th>\n",
       "      <th>position</th>\n",
       "      <th>plan_configuration</th>\n",
       "      <th>has_superstructure_adobe_mud</th>\n",
       "      <th>has_superstructure_mud_mortar_stone</th>\n",
       "      <th>has_superstructure_stone_flag</th>\n",
       "      <th>has_superstructure_cement_mortar_stone</th>\n",
       "      <th>has_superstructure_mud_mortar_brick</th>\n",
       "      <th>has_superstructure_cement_mortar_brick</th>\n",
       "      <th>has_superstructure_timber</th>\n",
       "      <th>has_superstructure_bamboo</th>\n",
       "      <th>has_superstructure_rc_non_engineered</th>\n",
       "      <th>has_superstructure_rc_engineered</th>\n",
       "      <th>has_superstructure_other</th>\n",
       "      <th>legal_ownership_status</th>\n",
       "      <th>count_families</th>\n",
       "      <th>has_secondary_use</th>\n",
       "      <th>has_secondary_use_agriculture</th>\n",
       "      <th>has_secondary_use_hotel</th>\n",
       "      <th>has_secondary_use_rental</th>\n",
       "      <th>has_secondary_use_institution</th>\n",
       "      <th>has_secondary_use_school</th>\n",
       "      <th>has_secondary_use_industry</th>\n",
       "      <th>has_secondary_use_health_post</th>\n",
       "      <th>has_secondary_use_gov_office</th>\n",
       "      <th>has_secondary_use_use_police</th>\n",
       "      <th>has_secondary_use_other</th>\n",
       "      <th>damage_grade</th>\n",
       "    </tr>\n",
       "  </thead>\n",
       "  <tbody>\n",
       "    <tr>\n",
       "      <th>0</th>\n",
       "      <td>802906</td>\n",
       "      <td>6</td>\n",
       "      <td>487</td>\n",
       "      <td>12198</td>\n",
       "      <td>2</td>\n",
       "      <td>30</td>\n",
       "      <td>6</td>\n",
       "      <td>5</td>\n",
       "      <td>t</td>\n",
       "      <td>r</td>\n",
       "      <td>n</td>\n",
       "      <td>f</td>\n",
       "      <td>q</td>\n",
       "      <td>t</td>\n",
       "      <td>d</td>\n",
       "      <td>1</td>\n",
       "      <td>1</td>\n",
       "      <td>0</td>\n",
       "      <td>0</td>\n",
       "      <td>0</td>\n",
       "      <td>0</td>\n",
       "      <td>0</td>\n",
       "      <td>0</td>\n",
       "      <td>0</td>\n",
       "      <td>0</td>\n",
       "      <td>0</td>\n",
       "      <td>v</td>\n",
       "      <td>1</td>\n",
       "      <td>0</td>\n",
       "      <td>0</td>\n",
       "      <td>0</td>\n",
       "      <td>0</td>\n",
       "      <td>0</td>\n",
       "      <td>0</td>\n",
       "      <td>0</td>\n",
       "      <td>0</td>\n",
       "      <td>0</td>\n",
       "      <td>0</td>\n",
       "      <td>0</td>\n",
       "      <td>3</td>\n",
       "    </tr>\n",
       "    <tr>\n",
       "      <th>1</th>\n",
       "      <td>28830</td>\n",
       "      <td>8</td>\n",
       "      <td>900</td>\n",
       "      <td>2812</td>\n",
       "      <td>2</td>\n",
       "      <td>10</td>\n",
       "      <td>8</td>\n",
       "      <td>7</td>\n",
       "      <td>o</td>\n",
       "      <td>r</td>\n",
       "      <td>n</td>\n",
       "      <td>x</td>\n",
       "      <td>q</td>\n",
       "      <td>s</td>\n",
       "      <td>d</td>\n",
       "      <td>0</td>\n",
       "      <td>1</td>\n",
       "      <td>0</td>\n",
       "      <td>0</td>\n",
       "      <td>0</td>\n",
       "      <td>0</td>\n",
       "      <td>0</td>\n",
       "      <td>0</td>\n",
       "      <td>0</td>\n",
       "      <td>0</td>\n",
       "      <td>0</td>\n",
       "      <td>v</td>\n",
       "      <td>1</td>\n",
       "      <td>0</td>\n",
       "      <td>0</td>\n",
       "      <td>0</td>\n",
       "      <td>0</td>\n",
       "      <td>0</td>\n",
       "      <td>0</td>\n",
       "      <td>0</td>\n",
       "      <td>0</td>\n",
       "      <td>0</td>\n",
       "      <td>0</td>\n",
       "      <td>0</td>\n",
       "      <td>2</td>\n",
       "    </tr>\n",
       "    <tr>\n",
       "      <th>2</th>\n",
       "      <td>94947</td>\n",
       "      <td>21</td>\n",
       "      <td>363</td>\n",
       "      <td>8973</td>\n",
       "      <td>2</td>\n",
       "      <td>10</td>\n",
       "      <td>5</td>\n",
       "      <td>5</td>\n",
       "      <td>t</td>\n",
       "      <td>r</td>\n",
       "      <td>n</td>\n",
       "      <td>f</td>\n",
       "      <td>x</td>\n",
       "      <td>t</td>\n",
       "      <td>d</td>\n",
       "      <td>0</td>\n",
       "      <td>1</td>\n",
       "      <td>0</td>\n",
       "      <td>0</td>\n",
       "      <td>0</td>\n",
       "      <td>0</td>\n",
       "      <td>0</td>\n",
       "      <td>0</td>\n",
       "      <td>0</td>\n",
       "      <td>0</td>\n",
       "      <td>0</td>\n",
       "      <td>v</td>\n",
       "      <td>1</td>\n",
       "      <td>0</td>\n",
       "      <td>0</td>\n",
       "      <td>0</td>\n",
       "      <td>0</td>\n",
       "      <td>0</td>\n",
       "      <td>0</td>\n",
       "      <td>0</td>\n",
       "      <td>0</td>\n",
       "      <td>0</td>\n",
       "      <td>0</td>\n",
       "      <td>0</td>\n",
       "      <td>3</td>\n",
       "    </tr>\n",
       "    <tr>\n",
       "      <th>3</th>\n",
       "      <td>590882</td>\n",
       "      <td>22</td>\n",
       "      <td>418</td>\n",
       "      <td>10694</td>\n",
       "      <td>2</td>\n",
       "      <td>10</td>\n",
       "      <td>6</td>\n",
       "      <td>5</td>\n",
       "      <td>t</td>\n",
       "      <td>r</td>\n",
       "      <td>n</td>\n",
       "      <td>f</td>\n",
       "      <td>x</td>\n",
       "      <td>s</td>\n",
       "      <td>d</td>\n",
       "      <td>0</td>\n",
       "      <td>1</td>\n",
       "      <td>0</td>\n",
       "      <td>0</td>\n",
       "      <td>0</td>\n",
       "      <td>0</td>\n",
       "      <td>1</td>\n",
       "      <td>1</td>\n",
       "      <td>0</td>\n",
       "      <td>0</td>\n",
       "      <td>0</td>\n",
       "      <td>v</td>\n",
       "      <td>1</td>\n",
       "      <td>0</td>\n",
       "      <td>0</td>\n",
       "      <td>0</td>\n",
       "      <td>0</td>\n",
       "      <td>0</td>\n",
       "      <td>0</td>\n",
       "      <td>0</td>\n",
       "      <td>0</td>\n",
       "      <td>0</td>\n",
       "      <td>0</td>\n",
       "      <td>0</td>\n",
       "      <td>2</td>\n",
       "    </tr>\n",
       "    <tr>\n",
       "      <th>4</th>\n",
       "      <td>201944</td>\n",
       "      <td>11</td>\n",
       "      <td>131</td>\n",
       "      <td>1488</td>\n",
       "      <td>3</td>\n",
       "      <td>30</td>\n",
       "      <td>8</td>\n",
       "      <td>9</td>\n",
       "      <td>t</td>\n",
       "      <td>r</td>\n",
       "      <td>n</td>\n",
       "      <td>f</td>\n",
       "      <td>x</td>\n",
       "      <td>s</td>\n",
       "      <td>d</td>\n",
       "      <td>1</td>\n",
       "      <td>0</td>\n",
       "      <td>0</td>\n",
       "      <td>0</td>\n",
       "      <td>0</td>\n",
       "      <td>0</td>\n",
       "      <td>0</td>\n",
       "      <td>0</td>\n",
       "      <td>0</td>\n",
       "      <td>0</td>\n",
       "      <td>0</td>\n",
       "      <td>v</td>\n",
       "      <td>1</td>\n",
       "      <td>0</td>\n",
       "      <td>0</td>\n",
       "      <td>0</td>\n",
       "      <td>0</td>\n",
       "      <td>0</td>\n",
       "      <td>0</td>\n",
       "      <td>0</td>\n",
       "      <td>0</td>\n",
       "      <td>0</td>\n",
       "      <td>0</td>\n",
       "      <td>0</td>\n",
       "      <td>3</td>\n",
       "    </tr>\n",
       "  </tbody>\n",
       "</table>\n",
       "</div>"
      ],
      "text/plain": [
       "   building_id  geo_level_1_id  geo_level_2_id  geo_level_3_id  \\\n",
       "0       802906               6             487           12198   \n",
       "1        28830               8             900            2812   \n",
       "2        94947              21             363            8973   \n",
       "3       590882              22             418           10694   \n",
       "4       201944              11             131            1488   \n",
       "\n",
       "   count_floors_pre_eq  age  area_percentage  height_percentage  \\\n",
       "0                    2   30                6                  5   \n",
       "1                    2   10                8                  7   \n",
       "2                    2   10                5                  5   \n",
       "3                    2   10                6                  5   \n",
       "4                    3   30                8                  9   \n",
       "\n",
       "  land_surface_condition foundation_type roof_type ground_floor_type  \\\n",
       "0                      t               r         n                 f   \n",
       "1                      o               r         n                 x   \n",
       "2                      t               r         n                 f   \n",
       "3                      t               r         n                 f   \n",
       "4                      t               r         n                 f   \n",
       "\n",
       "  other_floor_type position plan_configuration  has_superstructure_adobe_mud  \\\n",
       "0                q        t                  d                             1   \n",
       "1                q        s                  d                             0   \n",
       "2                x        t                  d                             0   \n",
       "3                x        s                  d                             0   \n",
       "4                x        s                  d                             1   \n",
       "\n",
       "   has_superstructure_mud_mortar_stone  has_superstructure_stone_flag  \\\n",
       "0                                    1                              0   \n",
       "1                                    1                              0   \n",
       "2                                    1                              0   \n",
       "3                                    1                              0   \n",
       "4                                    0                              0   \n",
       "\n",
       "   has_superstructure_cement_mortar_stone  \\\n",
       "0                                       0   \n",
       "1                                       0   \n",
       "2                                       0   \n",
       "3                                       0   \n",
       "4                                       0   \n",
       "\n",
       "   has_superstructure_mud_mortar_brick  \\\n",
       "0                                    0   \n",
       "1                                    0   \n",
       "2                                    0   \n",
       "3                                    0   \n",
       "4                                    0   \n",
       "\n",
       "   has_superstructure_cement_mortar_brick  has_superstructure_timber  \\\n",
       "0                                       0                          0   \n",
       "1                                       0                          0   \n",
       "2                                       0                          0   \n",
       "3                                       0                          1   \n",
       "4                                       0                          0   \n",
       "\n",
       "   has_superstructure_bamboo  has_superstructure_rc_non_engineered  \\\n",
       "0                          0                                     0   \n",
       "1                          0                                     0   \n",
       "2                          0                                     0   \n",
       "3                          1                                     0   \n",
       "4                          0                                     0   \n",
       "\n",
       "   has_superstructure_rc_engineered  has_superstructure_other  \\\n",
       "0                                 0                         0   \n",
       "1                                 0                         0   \n",
       "2                                 0                         0   \n",
       "3                                 0                         0   \n",
       "4                                 0                         0   \n",
       "\n",
       "  legal_ownership_status  count_families  has_secondary_use  \\\n",
       "0                      v               1                  0   \n",
       "1                      v               1                  0   \n",
       "2                      v               1                  0   \n",
       "3                      v               1                  0   \n",
       "4                      v               1                  0   \n",
       "\n",
       "   has_secondary_use_agriculture  has_secondary_use_hotel  \\\n",
       "0                              0                        0   \n",
       "1                              0                        0   \n",
       "2                              0                        0   \n",
       "3                              0                        0   \n",
       "4                              0                        0   \n",
       "\n",
       "   has_secondary_use_rental  has_secondary_use_institution  \\\n",
       "0                         0                              0   \n",
       "1                         0                              0   \n",
       "2                         0                              0   \n",
       "3                         0                              0   \n",
       "4                         0                              0   \n",
       "\n",
       "   has_secondary_use_school  has_secondary_use_industry  \\\n",
       "0                         0                           0   \n",
       "1                         0                           0   \n",
       "2                         0                           0   \n",
       "3                         0                           0   \n",
       "4                         0                           0   \n",
       "\n",
       "   has_secondary_use_health_post  has_secondary_use_gov_office  \\\n",
       "0                              0                             0   \n",
       "1                              0                             0   \n",
       "2                              0                             0   \n",
       "3                              0                             0   \n",
       "4                              0                             0   \n",
       "\n",
       "   has_secondary_use_use_police  has_secondary_use_other  damage_grade  \n",
       "0                             0                        0             3  \n",
       "1                             0                        0             2  \n",
       "2                             0                        0             3  \n",
       "3                             0                        0             2  \n",
       "4                             0                        0             3  "
      ]
     },
     "metadata": {},
     "output_type": "display_data"
    }
   ],
   "source": [
    "train_joined = pd.merge(train_values, \n",
    "                        train_labels)\n",
    "#check\n",
    "display_all(train_joined.head())"
   ]
  },
  {
   "cell_type": "markdown",
   "metadata": {},
   "source": [
    "#### EXPLORATORY DATA ANALYSIS (EDA)"
   ]
  },
  {
   "cell_type": "code",
   "execution_count": 7,
   "metadata": {
    "scrolled": false
   },
   "outputs": [
    {
     "name": "stdout",
     "output_type": "stream",
     "text": [
      "summary\n",
      "------------------------------\n",
      "        building_id  geo_level_1_id  geo_level_2_id  geo_level_3_id  \\\n",
      "count  2.606010e+05   260601.000000   260601.000000   260601.000000   \n",
      "mean   5.256755e+05       13.900353      701.074685     6257.876148   \n",
      "std    3.045450e+05        8.033617      412.710734     3646.369645   \n",
      "min    4.000000e+00        0.000000        0.000000        0.000000   \n",
      "25%    2.611900e+05        7.000000      350.000000     3073.000000   \n",
      "50%    5.257570e+05       12.000000      702.000000     6270.000000   \n",
      "75%    7.897620e+05       21.000000     1050.000000     9412.000000   \n",
      "max    1.052934e+06       30.000000     1427.000000    12567.000000   \n",
      "\n",
      "       count_floors_pre_eq            age  area_percentage  height_percentage  \\\n",
      "count        260601.000000  260601.000000    260601.000000      260601.000000   \n",
      "mean              2.129723      26.535029         8.018051           5.434365   \n",
      "std               0.727665      73.565937         4.392231           1.918418   \n",
      "min               1.000000       0.000000         1.000000           2.000000   \n",
      "25%               2.000000      10.000000         5.000000           4.000000   \n",
      "50%               2.000000      15.000000         7.000000           5.000000   \n",
      "75%               2.000000      30.000000         9.000000           6.000000   \n",
      "max               9.000000     995.000000       100.000000          32.000000   \n",
      "\n",
      "       has_superstructure_adobe_mud  has_superstructure_mud_mortar_stone  ...  \\\n",
      "count                 260601.000000                        260601.000000  ...   \n",
      "mean                       0.088645                             0.761935  ...   \n",
      "std                        0.284231                             0.425900  ...   \n",
      "min                        0.000000                             0.000000  ...   \n",
      "25%                        0.000000                             1.000000  ...   \n",
      "50%                        0.000000                             1.000000  ...   \n",
      "75%                        0.000000                             1.000000  ...   \n",
      "max                        1.000000                             1.000000  ...   \n",
      "\n",
      "       has_secondary_use_hotel  has_secondary_use_rental  \\\n",
      "count            260601.000000             260601.000000   \n",
      "mean                  0.033626                  0.008101   \n",
      "std                   0.180265                  0.089638   \n",
      "min                   0.000000                  0.000000   \n",
      "25%                   0.000000                  0.000000   \n",
      "50%                   0.000000                  0.000000   \n",
      "75%                   0.000000                  0.000000   \n",
      "max                   1.000000                  1.000000   \n",
      "\n",
      "       has_secondary_use_institution  has_secondary_use_school  \\\n",
      "count                  260601.000000             260601.000000   \n",
      "mean                        0.000940                  0.000361   \n",
      "std                         0.030647                  0.018989   \n",
      "min                         0.000000                  0.000000   \n",
      "25%                         0.000000                  0.000000   \n",
      "50%                         0.000000                  0.000000   \n",
      "75%                         0.000000                  0.000000   \n",
      "max                         1.000000                  1.000000   \n",
      "\n",
      "       has_secondary_use_industry  has_secondary_use_health_post  \\\n",
      "count               260601.000000                  260601.000000   \n",
      "mean                     0.001071                       0.000188   \n",
      "std                      0.032703                       0.013711   \n",
      "min                      0.000000                       0.000000   \n",
      "25%                      0.000000                       0.000000   \n",
      "50%                      0.000000                       0.000000   \n",
      "75%                      0.000000                       0.000000   \n",
      "max                      1.000000                       1.000000   \n",
      "\n",
      "       has_secondary_use_gov_office  has_secondary_use_use_police  \\\n",
      "count                 260601.000000                 260601.000000   \n",
      "mean                       0.000146                      0.000088   \n",
      "std                        0.012075                      0.009394   \n",
      "min                        0.000000                      0.000000   \n",
      "25%                        0.000000                      0.000000   \n",
      "50%                        0.000000                      0.000000   \n",
      "75%                        0.000000                      0.000000   \n",
      "max                        1.000000                      1.000000   \n",
      "\n",
      "       has_secondary_use_other   damage_grade  \n",
      "count            260601.000000  260601.000000  \n",
      "mean                  0.005119       2.238272  \n",
      "std                   0.071364       0.611814  \n",
      "min                   0.000000       1.000000  \n",
      "25%                   0.000000       2.000000  \n",
      "50%                   0.000000       2.000000  \n",
      "75%                   0.000000       3.000000  \n",
      "max                   1.000000       3.000000  \n",
      "\n",
      "[8 rows x 32 columns]\n",
      "------------------------------\n",
      "columns types\n",
      "building_id                                int64\n",
      "geo_level_1_id                             int64\n",
      "geo_level_2_id                             int64\n",
      "geo_level_3_id                             int64\n",
      "count_floors_pre_eq                        int64\n",
      "age                                        int64\n",
      "area_percentage                            int64\n",
      "height_percentage                          int64\n",
      "land_surface_condition                    object\n",
      "foundation_type                           object\n",
      "roof_type                                 object\n",
      "ground_floor_type                         object\n",
      "other_floor_type                          object\n",
      "position                                  object\n",
      "plan_configuration                        object\n",
      "has_superstructure_adobe_mud               int64\n",
      "has_superstructure_mud_mortar_stone        int64\n",
      "has_superstructure_stone_flag              int64\n",
      "has_superstructure_cement_mortar_stone     int64\n",
      "has_superstructure_mud_mortar_brick        int64\n",
      "has_superstructure_cement_mortar_brick     int64\n",
      "has_superstructure_timber                  int64\n",
      "has_superstructure_bamboo                  int64\n",
      "has_superstructure_rc_non_engineered       int64\n",
      "has_superstructure_rc_engineered           int64\n",
      "has_superstructure_other                   int64\n",
      "legal_ownership_status                    object\n",
      "count_families                             int64\n",
      "has_secondary_use                          int64\n",
      "has_secondary_use_agriculture              int64\n",
      "has_secondary_use_hotel                    int64\n",
      "has_secondary_use_rental                   int64\n",
      "has_secondary_use_institution              int64\n",
      "has_secondary_use_school                   int64\n",
      "has_secondary_use_industry                 int64\n",
      "has_secondary_use_health_post              int64\n",
      "has_secondary_use_gov_office               int64\n",
      "has_secondary_use_use_police               int64\n",
      "has_secondary_use_other                    int64\n",
      "damage_grade                               int64\n",
      "dtype: object\n",
      "------------------------------\n",
      "shape\n",
      "(260601, 40)\n"
     ]
    }
   ],
   "source": [
    "#summarize all column in train_joined data\n",
    "def summary(df):\n",
    "    print(\"summary\")\n",
    "    print(\"------------------------------\")\n",
    "    print(df.describe())\n",
    "    print(\"------------------------------\")\n",
    "    print(\"columns types\")\n",
    "    print(df.dtypes)\n",
    "    print(\"------------------------------\")\n",
    "    print(\"shape\")\n",
    "    print(df.shape)\n",
    "    \n",
    "summary(train_joined)"
   ]
  },
  {
   "cell_type": "code",
   "execution_count": 8,
   "metadata": {},
   "outputs": [
    {
     "data": {
      "text/plain": [
       "[Text(0, 0.5, 'Count'),\n",
       " Text(0.5, 0, 'damage_grade'),\n",
       " Text(0.5, 1.0, 'Countplot of Damage Grade')]"
      ]
     },
     "execution_count": 8,
     "metadata": {},
     "output_type": "execute_result"
    },
    {
     "data": {
      "image/png": "[encoded data removed]",
      "text/plain": [
       "<Figure size 432x288 with 1 Axes>"
      ]
     },
     "metadata": {},
     "output_type": "display_data"
    }
   ],
   "source": [
    "#damage_grade countplot\n",
    "sns.set(style=\"ticks\", color_codes=True)\n",
    "ax = sns.countplot(train_joined[\"damage_grade\"])\n",
    "ax.set(ylabel='Count', \n",
    "       xlabel='damage_grade', \n",
    "       title='Countplot of Damage Grade')"
   ]
  },
  {
   "cell_type": "markdown",
   "metadata": {},
   "source": [
    "Based on the graph above, it can be concluded that the damage to the building is not balanced, where the least damage to the building is level 1 and the most is level 2."
   ]
  },
  {
   "cell_type": "code",
   "execution_count": 9,
   "metadata": {
    "scrolled": false
   },
   "outputs": [
    {
     "data": {
      "text/plain": [
       "[Text(0.5, 1.0, 'Correlation Between Features')]"
      ]
     },
     "execution_count": 9,
     "metadata": {},
     "output_type": "execute_result"
    },
    {
     "data": {
      "image/png": "[encoded data removed]",
      "text/plain": [
       "<Figure size 432x288 with 2 Axes>"
      ]
     },
     "metadata": {},
     "output_type": "display_data"
    }
   ],
   "source": [
    "#correlation between features\n",
    "sns.set(style=\"ticks\", color_codes=True)\n",
    "ax = sns.heatmap(train_joined.corr())\n",
    "ax.set(title = 'Correlation Between Features')"
   ]
  },
  {
   "cell_type": "code",
   "execution_count": 10,
   "metadata": {},
   "outputs": [
    {
     "data": {
      "text/plain": [
       "damage_grade                              1.000000\n",
       "has_superstructure_mud_mortar_stone       0.291325\n",
       "count_floors_pre_eq                       0.122308\n",
       "has_superstructure_stone_flag             0.066039\n",
       "count_families                            0.056151\n",
       "has_superstructure_adobe_mud              0.055314\n",
       "height_percentage                         0.048130\n",
       "geo_level_2_id                            0.043161\n",
       "age                                       0.029273\n",
       "has_superstructure_mud_mortar_brick       0.014561\n",
       "has_secondary_use_agriculture             0.011309\n",
       "geo_level_3_id                            0.007932\n",
       "building_id                               0.001063\n",
       "has_secondary_use_use_police             -0.001656\n",
       "has_secondary_use_health_post            -0.008543\n",
       "has_secondary_use_gov_office             -0.009378\n",
       "has_secondary_use_industry               -0.011024\n",
       "has_secondary_use_school                 -0.011692\n",
       "has_secondary_use_other                  -0.016334\n",
       "has_secondary_use_institution            -0.028728\n",
       "has_superstructure_other                 -0.030224\n",
       "has_superstructure_cement_mortar_stone   -0.060295\n",
       "has_superstructure_bamboo                -0.063051\n",
       "has_superstructure_timber                -0.069852\n",
       "geo_level_1_id                           -0.072347\n",
       "has_secondary_use                        -0.079630\n",
       "has_secondary_use_rental                 -0.083754\n",
       "has_secondary_use_hotel                  -0.097942\n",
       "area_percentage                          -0.125221\n",
       "has_superstructure_rc_non_engineered     -0.158145\n",
       "has_superstructure_rc_engineered         -0.179014\n",
       "has_superstructure_cement_mortar_brick   -0.254131\n",
       "Name: damage_grade, dtype: float64"
      ]
     },
     "execution_count": 10,
     "metadata": {},
     "output_type": "execute_result"
    }
   ],
   "source": [
    "#Correlation any features to damage_grade\n",
    "\n",
    "#define numerical columns\n",
    "train_numerical = train_joined[train_joined.dtypes[train_joined.dtypes != \"object\"].index]\n",
    "\n",
    "#defining correlation\n",
    "corr_0 = train_numerical.corr()\n",
    "corr_0.sort_values([\"damage_grade\"], \n",
    "                   ascending = False, \n",
    "                   inplace = True)\n",
    "corr_0.damage_grade"
   ]
  },
  {
   "cell_type": "markdown",
   "metadata": {},
   "source": [
    "Based on the graphs and data above, it can be seen that there are several positive correlations and some negative correlations to the building damage column but the correlation is not strong."
   ]
  },
  {
   "cell_type": "code",
   "execution_count": 11,
   "metadata": {},
   "outputs": [
    {
     "data": {
      "text/plain": [
       "[Text(0.5, 0, 'age'), Text(0.5, 1.0, 'Distribuion of Age Column')]"
      ]
     },
     "execution_count": 11,
     "metadata": {},
     "output_type": "execute_result"
    },
    {
     "data": {
      "image/png": "[encoded data removed]",
      "text/plain": [
       "<Figure size 432x288 with 1 Axes>"
      ]
     },
     "metadata": {},
     "output_type": "display_data"
    }
   ],
   "source": [
    "#age distribution\n",
    "sns.set(style=\"ticks\", color_codes=True)\n",
    "ax = sns.distplot(train_joined[\"age\"])\n",
    "ax.set(xlabel='age', \n",
    "       title='Distribuion of Age Column')"
   ]
  },
  {
   "cell_type": "markdown",
   "metadata": {},
   "source": [
    "Based on the distribution chart above, most buildings are between 0 to 100 years old, but there are some buildings that are more than 100 years old."
   ]
  },
  {
   "cell_type": "code",
   "execution_count": 12,
   "metadata": {},
   "outputs": [
    {
     "data": {
      "text/plain": [
       "[Text(0, 0.5, 'Count'),\n",
       " Text(0.5, 0, 'damage_grade'),\n",
       " Text(0.5, 1.0, 'Countplot of Damage Grade (New Building)')]"
      ]
     },
     "execution_count": 12,
     "metadata": {},
     "output_type": "execute_result"
    },
    {
     "data": {
      "image/png": "[encoded data removed]",
      "text/plain": [
       "<Figure size 432x288 with 1 Axes>"
      ]
     },
     "metadata": {},
     "output_type": "display_data"
    }
   ],
   "source": [
    "#checking builing condition that has 0 year age\n",
    "new_building = train_joined[train_joined[\"age\"] == 0]\n",
    "\n",
    "#damage_grade countplot for new building\n",
    "sns.set(style=\"ticks\", color_codes=True)\n",
    "ax = sns.countplot(new_building[\"damage_grade\"])\n",
    "ax.set(ylabel='Count', \n",
    "       xlabel='damage_grade', \n",
    "       title='Countplot of Damage Grade (New Building)')"
   ]
  },
  {
   "cell_type": "code",
   "execution_count": 13,
   "metadata": {},
   "outputs": [
    {
     "data": {
      "text/plain": [
       "[Text(0, 0.5, 'Count'),\n",
       " Text(0.5, 0, 'damage_grade'),\n",
       " Text(0.5, 1.0, 'Countplot of Damage Grade (Ancient Building)')]"
      ]
     },
     "execution_count": 13,
     "metadata": {},
     "output_type": "execute_result"
    },
    {
     "data": {
      "image/png": "[encoded data removed]",
      "text/plain": [
       "<Figure size 432x288 with 1 Axes>"
      ]
     },
     "metadata": {},
     "output_type": "display_data"
    }
   ],
   "source": [
    "#checking builing condition that has 0 year age\n",
    "ancient_building = train_joined[train_joined[\"age\"] > 100]\n",
    "\n",
    "#damage_grade countplot for new building\n",
    "sns.set(style=\"ticks\", color_codes=True)\n",
    "ax = sns.countplot(ancient_building[\"damage_grade\"])\n",
    "ax.set(ylabel='Count', \n",
    "       xlabel='damage_grade', \n",
    "       title='Countplot of Damage Grade (Ancient Building)')"
   ]
  },
  {
   "cell_type": "markdown",
   "metadata": {},
   "source": [
    "Compare to another buildings that has different age"
   ]
  },
  {
   "cell_type": "code",
   "execution_count": 14,
   "metadata": {},
   "outputs": [
    {
     "data": {
      "text/plain": [
       "[Text(0, 0.5, 'Count'),\n",
       " Text(0.5, 0, 'damage_grade'),\n",
       " Text(0.5, 1.0, 'Countplot of Damage Grade (0-100 years old building)')]"
      ]
     },
     "execution_count": 14,
     "metadata": {},
     "output_type": "execute_result"
    },
    {
     "data": {
      "image/png": "[encoded data removed]",
      "text/plain": [
       "<Figure size 648x360 with 1 Axes>"
      ]
     },
     "metadata": {},
     "output_type": "display_data"
    }
   ],
   "source": [
    "#damage_grade countplot for other building\n",
    "\n",
    "#querying based on age\n",
    "other_building = train_joined[train_joined[\"age\"] <= 100]\n",
    "\n",
    "sns.set(style=\"ticks\", \n",
    "        color_codes=True,\n",
    "       rc={'figure.figsize':(9,5)})\n",
    "\n",
    "ax = sns.countplot(other_building[\"age\"],\n",
    "                hue = other_building [\"damage_grade\"])\n",
    "ax.set(ylabel='Count', \n",
    "       xlabel='damage_grade', \n",
    "       title='Countplot of Damage Grade (0-100 years old building)')"
   ]
  },
  {
   "cell_type": "markdown",
   "metadata": {},
   "source": [
    "Building damages level looks very imbalanced. As we can see that as the building ages, the first level damage will be less and only new buildings have a damage rate of one greater than a level of three damage. "
   ]
  },
  {
   "cell_type": "code",
   "execution_count": 15,
   "metadata": {
    "scrolled": false
   },
   "outputs": [
    {
     "data": {
      "image/png": "[encoded data removed]",
      "text/plain": [
       "<Figure size 288x216 with 1 Axes>"
      ]
     },
     "metadata": {},
     "output_type": "display_data"
    },
    {
     "data": {
      "image/png": "[encoded data removed]",
      "text/plain": [
       "<Figure size 288x216 with 1 Axes>"
      ]
     },
     "metadata": {},
     "output_type": "display_data"
    },
    {
     "data": {
      "image/png": "[encoded data removed]",
      "text/plain": [
       "<Figure size 288x216 with 1 Axes>"
      ]
     },
     "metadata": {},
     "output_type": "display_data"
    },
    {
     "data": {
      "image/png": "[encoded data removed]",
      "text/plain": [
       "<Figure size 288x216 with 1 Axes>"
      ]
     },
     "metadata": {},
     "output_type": "display_data"
    },
    {
     "data": {
      "image/png": "[encoded data removed]",
      "text/plain": [
       "<Figure size 288x216 with 1 Axes>"
      ]
     },
     "metadata": {},
     "output_type": "display_data"
    },
    {
     "data": {
      "image/png": "[encoded data removed]",
      "text/plain": [
       "<Figure size 288x216 with 1 Axes>"
      ]
     },
     "metadata": {},
     "output_type": "display_data"
    },
    {
     "data": {
      "image/png": "[encoded data removed]",
      "text/plain": [
       "<Figure size 288x216 with 1 Axes>"
      ]
     },
     "metadata": {},
     "output_type": "display_data"
    },
    {
     "data": {
      "image/png": "[encoded data removed]",
      "text/plain": [
       "<Figure size 288x216 with 1 Axes>"
      ]
     },
     "metadata": {},
     "output_type": "display_data"
    },
    {
     "data": {
      "image/png": "[encoded data removed]",
      "text/plain": [
       "<Figure size 288x216 with 1 Axes>"
      ]
     },
     "metadata": {},
     "output_type": "display_data"
    },
    {
     "data": {
      "image/png": "[encoded data removed]",
      "text/plain": [
       "<Figure size 288x216 with 1 Axes>"
      ]
     },
     "metadata": {},
     "output_type": "display_data"
    },
    {
     "data": {
      "image/png": "[encoded data removed]",
      "text/plain": [
       "<Figure size 288x216 with 1 Axes>"
      ]
     },
     "metadata": {},
     "output_type": "display_data"
    }
   ],
   "source": [
    "cols=['has_superstructure_adobe_mud',\n",
    "      'has_superstructure_mud_mortar_stone',\n",
    "      'has_superstructure_mud_mortar_brick',       \n",
    "      'has_superstructure_cement_mortar_brick',   \n",
    "      'has_superstructure_cement_mortar_stone',  \n",
    "      'has_superstructure_timber',\n",
    "      'has_superstructure_bamboo',\n",
    "      'has_superstructure_rc_non_engineered',\n",
    "      'has_superstructure_rc_engineered',\n",
    "      'has_superstructure_stone_flag',\n",
    "      'has_superstructure_other']\n",
    "\n",
    "for i in cols:\n",
    "    sns.set(style=\"ticks\", \n",
    "        color_codes=True,\n",
    "       rc={'figure.figsize':(4,3)})\n",
    "    ax = sns.countplot(train_joined[i],\n",
    "                hue = train_joined[\"damage_grade\"])\n",
    "    ax.set(ylabel='Count', \n",
    "           xlabel=i)\n",
    "    plt.show()"
   ]
  },
  {
   "cell_type": "code",
   "execution_count": 16,
   "metadata": {},
   "outputs": [
    {
     "data": {
      "text/plain": [
       "[Text(0, 0.5, 'Count'),\n",
       " Text(0.5, 0, 'Foundation Type'),\n",
       " Text(0.5, 1.0, 'Countplot of Damage Grade (Foundation Type)')]"
      ]
     },
     "execution_count": 16,
     "metadata": {},
     "output_type": "execute_result"
    },
    {
     "data": {
      "image/png": "[encoded data removed]",
      "text/plain": [
       "<Figure size 432x360 with 1 Axes>"
      ]
     },
     "metadata": {},
     "output_type": "display_data"
    }
   ],
   "source": [
    "#damage countplot grouped by foundation type\n",
    "sns.set(style=\"ticks\", \n",
    "        color_codes=True,\n",
    "       rc={'figure.figsize':(6,5)})\n",
    "\n",
    "ax = sns.countplot(train_joined[\"foundation_type\"],\n",
    "                hue = train_joined[\"damage_grade\"])\n",
    "ax.set(ylabel='Count', \n",
    "       xlabel='Foundation Type', \n",
    "       title='Countplot of Damage Grade (Foundation Type)')"
   ]
  },
  {
   "cell_type": "markdown",
   "metadata": {},
   "source": [
    "Foundation type r is the type of foundation that is most widely used and has the most damage to the third degree, while the type of foundation i is the type of foundation that has the least percentage of damage to the third degree compared to other types of foundations.\n"
   ]
  },
  {
   "cell_type": "code",
   "execution_count": 17,
   "metadata": {},
   "outputs": [
    {
     "data": {
      "text/plain": [
       "[Text(0, 0.5, 'Count'),\n",
       " Text(0.5, 0, 'Roof Type'),\n",
       " Text(0.5, 1.0, 'Countplot of Damage Grade (Roof Type)')]"
      ]
     },
     "execution_count": 17,
     "metadata": {},
     "output_type": "execute_result"
    },
    {
     "data": {
      "image/png": "[encoded data removed]",
      "text/plain": [
       "<Figure size 432x360 with 1 Axes>"
      ]
     },
     "metadata": {},
     "output_type": "display_data"
    }
   ],
   "source": [
    "#damage countplot grouped by roof type\n",
    "sns.set(style=\"ticks\", \n",
    "        color_codes=True,\n",
    "       rc={'figure.figsize':(6,5)})\n",
    "\n",
    "ax = sns.countplot(train_joined[\"roof_type\"],\n",
    "                hue = train_joined[\"damage_grade\"])\n",
    "ax.set(ylabel='Count', \n",
    "       xlabel='Roof Type', \n",
    "       title='Countplot of Damage Grade (Roof Type)')"
   ]
  },
  {
   "cell_type": "markdown",
   "metadata": {},
   "source": [
    "Roof type n is the type of roof that is most often used in the analyzed buildings where the level of damage is dominated by second-level damage, while based on the graph above, the strongest type of roof is type x because there is almost no third-level damage to this type of roof."
   ]
  },
  {
   "cell_type": "code",
   "execution_count": 18,
   "metadata": {},
   "outputs": [
    {
     "data": {
      "text/plain": [
       "[Text(0, 0.5, 'Count'),\n",
       " Text(0.5, 0, 'Floor Count'),\n",
       " Text(0.5, 1.0, 'Countplot of Damage Grade (Floor Count)')]"
      ]
     },
     "execution_count": 18,
     "metadata": {},
     "output_type": "execute_result"
    },
    {
     "data": {
      "image/png": "[encoded data removed]",
      "text/plain": [
       "<Figure size 432x360 with 1 Axes>"
      ]
     },
     "metadata": {},
     "output_type": "display_data"
    }
   ],
   "source": [
    "#damage countplot grouped by how many floor at building before earthquake happened\n",
    "sns.set(style=\"ticks\", \n",
    "        color_codes=True,\n",
    "       rc={'figure.figsize':(6,5)})\n",
    "\n",
    "ax = sns.countplot(train_joined[\"count_floors_pre_eq\"],\n",
    "                hue = train_joined[\"damage_grade\"])\n",
    "ax.set(ylabel='Count', \n",
    "       xlabel='Floor Count', \n",
    "       title='Countplot of Damage Grade (Floor Count)')"
   ]
  },
  {
   "cell_type": "markdown",
   "metadata": {},
   "source": [
    "Based on the graph above, it can be concluded that the average building has two floors where taller buildings have a higher percentage of third-level damage and less first-level damage. This indicates that the taller the building, the greater the chance that the building will have a higher level of damage."
   ]
  },
  {
   "cell_type": "code",
   "execution_count": 19,
   "metadata": {},
   "outputs": [
    {
     "data": {
      "text/plain": [
       "[Text(0, 0.5, 'Count'),\n",
       " Text(0.5, 0, 'Land Surface Condition'),\n",
       " Text(0.5, 1.0, 'Countplot of Damage Grade (Land Surface Condition)')]"
      ]
     },
     "execution_count": 19,
     "metadata": {},
     "output_type": "execute_result"
    },
    {
     "data": {
      "image/png": "[encoded data removed]",
      "text/plain": [
       "<Figure size 432x360 with 1 Axes>"
      ]
     },
     "metadata": {},
     "output_type": "display_data"
    }
   ],
   "source": [
    "#damage countplot grouped by land surface condition\n",
    "sns.set(style=\"ticks\", \n",
    "        color_codes=True,\n",
    "       rc={'figure.figsize':(6,5)})\n",
    "\n",
    "ax = sns.countplot(train_joined[\"land_surface_condition\"],\n",
    "                hue = train_joined[\"damage_grade\"])\n",
    "ax.set(ylabel='Count', \n",
    "       xlabel='Land Surface Condition', \n",
    "       title='Countplot of Damage Grade (Land Surface Condition)')"
   ]
  },
  {
   "cell_type": "markdown",
   "metadata": {},
   "source": [
    "Surface soil conditions are dominated by t conditions where the highest level of damage is at level two and soil conditions are at least o soil conditions where there is only second-level damage and third-level damage which can be concluded that the soil conditions are o worse than other soil conditions."
   ]
  },
  {
   "cell_type": "markdown",
   "metadata": {},
   "source": [
    "#### DATA CLEANING"
   ]
  },
  {
   "cell_type": "code",
   "execution_count": 20,
   "metadata": {},
   "outputs": [
    {
     "data": {
      "text/html": [
       "<div>\n",
       "<style scoped>\n",
       "    .dataframe tbody tr th:only-of-type {\n",
       "        vertical-align: middle;\n",
       "    }\n",
       "\n",
       "    .dataframe tbody tr th {\n",
       "        vertical-align: top;\n",
       "    }\n",
       "\n",
       "    .dataframe thead th {\n",
       "        text-align: right;\n",
       "    }\n",
       "</style>\n",
       "<table border=\"1\" class=\"dataframe\">\n",
       "  <thead>\n",
       "    <tr style=\"text-align: right;\">\n",
       "      <th></th>\n",
       "      <th>Row With Missing Value</th>\n",
       "      <th>Percentage (%)</th>\n",
       "    </tr>\n",
       "  </thead>\n",
       "  <tbody>\n",
       "    <tr>\n",
       "      <th>building_id</th>\n",
       "      <td>0</td>\n",
       "      <td>0.0</td>\n",
       "    </tr>\n",
       "    <tr>\n",
       "      <th>has_secondary_use_agriculture</th>\n",
       "      <td>0</td>\n",
       "      <td>0.0</td>\n",
       "    </tr>\n",
       "    <tr>\n",
       "      <th>has_superstructure_bamboo</th>\n",
       "      <td>0</td>\n",
       "      <td>0.0</td>\n",
       "    </tr>\n",
       "    <tr>\n",
       "      <th>has_superstructure_rc_non_engineered</th>\n",
       "      <td>0</td>\n",
       "      <td>0.0</td>\n",
       "    </tr>\n",
       "    <tr>\n",
       "      <th>has_superstructure_rc_engineered</th>\n",
       "      <td>0</td>\n",
       "      <td>0.0</td>\n",
       "    </tr>\n",
       "    <tr>\n",
       "      <th>has_superstructure_other</th>\n",
       "      <td>0</td>\n",
       "      <td>0.0</td>\n",
       "    </tr>\n",
       "    <tr>\n",
       "      <th>legal_ownership_status</th>\n",
       "      <td>0</td>\n",
       "      <td>0.0</td>\n",
       "    </tr>\n",
       "    <tr>\n",
       "      <th>count_families</th>\n",
       "      <td>0</td>\n",
       "      <td>0.0</td>\n",
       "    </tr>\n",
       "    <tr>\n",
       "      <th>has_secondary_use</th>\n",
       "      <td>0</td>\n",
       "      <td>0.0</td>\n",
       "    </tr>\n",
       "    <tr>\n",
       "      <th>has_secondary_use_hotel</th>\n",
       "      <td>0</td>\n",
       "      <td>0.0</td>\n",
       "    </tr>\n",
       "    <tr>\n",
       "      <th>has_superstructure_cement_mortar_brick</th>\n",
       "      <td>0</td>\n",
       "      <td>0.0</td>\n",
       "    </tr>\n",
       "    <tr>\n",
       "      <th>has_secondary_use_rental</th>\n",
       "      <td>0</td>\n",
       "      <td>0.0</td>\n",
       "    </tr>\n",
       "    <tr>\n",
       "      <th>has_secondary_use_institution</th>\n",
       "      <td>0</td>\n",
       "      <td>0.0</td>\n",
       "    </tr>\n",
       "    <tr>\n",
       "      <th>has_secondary_use_school</th>\n",
       "      <td>0</td>\n",
       "      <td>0.0</td>\n",
       "    </tr>\n",
       "    <tr>\n",
       "      <th>has_secondary_use_industry</th>\n",
       "      <td>0</td>\n",
       "      <td>0.0</td>\n",
       "    </tr>\n",
       "    <tr>\n",
       "      <th>has_secondary_use_health_post</th>\n",
       "      <td>0</td>\n",
       "      <td>0.0</td>\n",
       "    </tr>\n",
       "    <tr>\n",
       "      <th>has_secondary_use_gov_office</th>\n",
       "      <td>0</td>\n",
       "      <td>0.0</td>\n",
       "    </tr>\n",
       "    <tr>\n",
       "      <th>has_secondary_use_use_police</th>\n",
       "      <td>0</td>\n",
       "      <td>0.0</td>\n",
       "    </tr>\n",
       "    <tr>\n",
       "      <th>has_superstructure_timber</th>\n",
       "      <td>0</td>\n",
       "      <td>0.0</td>\n",
       "    </tr>\n",
       "    <tr>\n",
       "      <th>has_superstructure_mud_mortar_brick</th>\n",
       "      <td>0</td>\n",
       "      <td>0.0</td>\n",
       "    </tr>\n",
       "    <tr>\n",
       "      <th>geo_level_1_id</th>\n",
       "      <td>0</td>\n",
       "      <td>0.0</td>\n",
       "    </tr>\n",
       "    <tr>\n",
       "      <th>foundation_type</th>\n",
       "      <td>0</td>\n",
       "      <td>0.0</td>\n",
       "    </tr>\n",
       "    <tr>\n",
       "      <th>geo_level_2_id</th>\n",
       "      <td>0</td>\n",
       "      <td>0.0</td>\n",
       "    </tr>\n",
       "    <tr>\n",
       "      <th>geo_level_3_id</th>\n",
       "      <td>0</td>\n",
       "      <td>0.0</td>\n",
       "    </tr>\n",
       "    <tr>\n",
       "      <th>count_floors_pre_eq</th>\n",
       "      <td>0</td>\n",
       "      <td>0.0</td>\n",
       "    </tr>\n",
       "    <tr>\n",
       "      <th>age</th>\n",
       "      <td>0</td>\n",
       "      <td>0.0</td>\n",
       "    </tr>\n",
       "    <tr>\n",
       "      <th>area_percentage</th>\n",
       "      <td>0</td>\n",
       "      <td>0.0</td>\n",
       "    </tr>\n",
       "    <tr>\n",
       "      <th>height_percentage</th>\n",
       "      <td>0</td>\n",
       "      <td>0.0</td>\n",
       "    </tr>\n",
       "    <tr>\n",
       "      <th>land_surface_condition</th>\n",
       "      <td>0</td>\n",
       "      <td>0.0</td>\n",
       "    </tr>\n",
       "    <tr>\n",
       "      <th>roof_type</th>\n",
       "      <td>0</td>\n",
       "      <td>0.0</td>\n",
       "    </tr>\n",
       "    <tr>\n",
       "      <th>has_superstructure_cement_mortar_stone</th>\n",
       "      <td>0</td>\n",
       "      <td>0.0</td>\n",
       "    </tr>\n",
       "    <tr>\n",
       "      <th>ground_floor_type</th>\n",
       "      <td>0</td>\n",
       "      <td>0.0</td>\n",
       "    </tr>\n",
       "    <tr>\n",
       "      <th>other_floor_type</th>\n",
       "      <td>0</td>\n",
       "      <td>0.0</td>\n",
       "    </tr>\n",
       "    <tr>\n",
       "      <th>position</th>\n",
       "      <td>0</td>\n",
       "      <td>0.0</td>\n",
       "    </tr>\n",
       "    <tr>\n",
       "      <th>plan_configuration</th>\n",
       "      <td>0</td>\n",
       "      <td>0.0</td>\n",
       "    </tr>\n",
       "    <tr>\n",
       "      <th>has_superstructure_adobe_mud</th>\n",
       "      <td>0</td>\n",
       "      <td>0.0</td>\n",
       "    </tr>\n",
       "    <tr>\n",
       "      <th>has_superstructure_mud_mortar_stone</th>\n",
       "      <td>0</td>\n",
       "      <td>0.0</td>\n",
       "    </tr>\n",
       "    <tr>\n",
       "      <th>has_superstructure_stone_flag</th>\n",
       "      <td>0</td>\n",
       "      <td>0.0</td>\n",
       "    </tr>\n",
       "    <tr>\n",
       "      <th>has_secondary_use_other</th>\n",
       "      <td>0</td>\n",
       "      <td>0.0</td>\n",
       "    </tr>\n",
       "  </tbody>\n",
       "</table>\n",
       "</div>"
      ],
      "text/plain": [
       "                                        Row With Missing Value  Percentage (%)\n",
       "building_id                                                  0             0.0\n",
       "has_secondary_use_agriculture                                0             0.0\n",
       "has_superstructure_bamboo                                    0             0.0\n",
       "has_superstructure_rc_non_engineered                         0             0.0\n",
       "has_superstructure_rc_engineered                             0             0.0\n",
       "has_superstructure_other                                     0             0.0\n",
       "legal_ownership_status                                       0             0.0\n",
       "count_families                                               0             0.0\n",
       "has_secondary_use                                            0             0.0\n",
       "has_secondary_use_hotel                                      0             0.0\n",
       "has_superstructure_cement_mortar_brick                       0             0.0\n",
       "has_secondary_use_rental                                     0             0.0\n",
       "has_secondary_use_institution                                0             0.0\n",
       "has_secondary_use_school                                     0             0.0\n",
       "has_secondary_use_industry                                   0             0.0\n",
       "has_secondary_use_health_post                                0             0.0\n",
       "has_secondary_use_gov_office                                 0             0.0\n",
       "has_secondary_use_use_police                                 0             0.0\n",
       "has_superstructure_timber                                    0             0.0\n",
       "has_superstructure_mud_mortar_brick                          0             0.0\n",
       "geo_level_1_id                                               0             0.0\n",
       "foundation_type                                              0             0.0\n",
       "geo_level_2_id                                               0             0.0\n",
       "geo_level_3_id                                               0             0.0\n",
       "count_floors_pre_eq                                          0             0.0\n",
       "age                                                          0             0.0\n",
       "area_percentage                                              0             0.0\n",
       "height_percentage                                            0             0.0\n",
       "land_surface_condition                                       0             0.0\n",
       "roof_type                                                    0             0.0\n",
       "has_superstructure_cement_mortar_stone                       0             0.0\n",
       "ground_floor_type                                            0             0.0\n",
       "other_floor_type                                             0             0.0\n",
       "position                                                     0             0.0\n",
       "plan_configuration                                           0             0.0\n",
       "has_superstructure_adobe_mud                                 0             0.0\n",
       "has_superstructure_mud_mortar_stone                          0             0.0\n",
       "has_superstructure_stone_flag                                0             0.0\n",
       "has_secondary_use_other                                      0             0.0"
      ]
     },
     "execution_count": 20,
     "metadata": {},
     "output_type": "execute_result"
    }
   ],
   "source": [
    "#def function to get missing values\n",
    "def get_missing_value(df):\n",
    "    mis_val = df.isnull().sum()\n",
    "    tot_val = df.shape[0]\n",
    "    mis_percentage = round((100 * mis_val / tot_val),\n",
    "                           2)\n",
    "    miss_tab = pd.concat([mis_val, mis_percentage], \n",
    "                         axis=1)\n",
    "    miss_tab_col_name = miss_tab.rename(columns = {0 : 'Row With Missing Value', \n",
    "                                                   1 : 'Percentage (%)'})\n",
    "    miss_tab_col_name = miss_tab_col_name.sort_values('Percentage (%)',ascending=False)\n",
    "    return miss_tab_col_name\n",
    "\n",
    "#checking missing values on train and test data\n",
    "get_missing_value(train_joined)\n",
    "get_missing_value(test_values)"
   ]
  },
  {
   "cell_type": "markdown",
   "metadata": {},
   "source": [
    "Conclusion : The quality of the available data is quite good, There are no missing values in train and test dataset"
   ]
  },
  {
   "cell_type": "code",
   "execution_count": 21,
   "metadata": {},
   "outputs": [],
   "source": [
    "#checking single unique values for all columns\n",
    "for i in train_joined.columns:\n",
    "    if len(train_joined[i].unique()) == 1:\n",
    "        print(i)\n",
    "    else:\n",
    "        pass"
   ]
  },
  {
   "cell_type": "markdown",
   "metadata": {},
   "source": [
    "Conclusion : There are no columns with single unique values in train and test dataset, We can continue the analysis process to the creation of a data model."
   ]
  },
  {
   "cell_type": "markdown",
   "metadata": {},
   "source": [
    "#### MODELLING"
   ]
  },
  {
   "cell_type": "code",
   "execution_count": 22,
   "metadata": {},
   "outputs": [
    {
     "data": {
      "text/html": [
       "<div>\n",
       "<style scoped>\n",
       "    .dataframe tbody tr th:only-of-type {\n",
       "        vertical-align: middle;\n",
       "    }\n",
       "\n",
       "    .dataframe tbody tr th {\n",
       "        vertical-align: top;\n",
       "    }\n",
       "\n",
       "    .dataframe thead th {\n",
       "        text-align: right;\n",
       "    }\n",
       "</style>\n",
       "<table border=\"1\" class=\"dataframe\">\n",
       "  <thead>\n",
       "    <tr style=\"text-align: right;\">\n",
       "      <th></th>\n",
       "      <th>building_id</th>\n",
       "      <th>geo_level_1_id</th>\n",
       "      <th>geo_level_2_id</th>\n",
       "      <th>geo_level_3_id</th>\n",
       "      <th>count_floors_pre_eq</th>\n",
       "      <th>age</th>\n",
       "      <th>area_percentage</th>\n",
       "      <th>height_percentage</th>\n",
       "      <th>has_superstructure_adobe_mud</th>\n",
       "      <th>has_superstructure_mud_mortar_stone</th>\n",
       "      <th>...</th>\n",
       "      <th>has_secondary_use_hotel</th>\n",
       "      <th>has_secondary_use_rental</th>\n",
       "      <th>has_secondary_use_institution</th>\n",
       "      <th>has_secondary_use_school</th>\n",
       "      <th>has_secondary_use_industry</th>\n",
       "      <th>has_secondary_use_health_post</th>\n",
       "      <th>has_secondary_use_gov_office</th>\n",
       "      <th>has_secondary_use_use_police</th>\n",
       "      <th>has_secondary_use_other</th>\n",
       "      <th>damage_grade</th>\n",
       "    </tr>\n",
       "  </thead>\n",
       "  <tbody>\n",
       "    <tr>\n",
       "      <th>0</th>\n",
       "      <td>802906</td>\n",
       "      <td>6</td>\n",
       "      <td>487</td>\n",
       "      <td>12198</td>\n",
       "      <td>2</td>\n",
       "      <td>30</td>\n",
       "      <td>6</td>\n",
       "      <td>5</td>\n",
       "      <td>1</td>\n",
       "      <td>1</td>\n",
       "      <td>...</td>\n",
       "      <td>0</td>\n",
       "      <td>0</td>\n",
       "      <td>0</td>\n",
       "      <td>0</td>\n",
       "      <td>0</td>\n",
       "      <td>0</td>\n",
       "      <td>0</td>\n",
       "      <td>0</td>\n",
       "      <td>0</td>\n",
       "      <td>3</td>\n",
       "    </tr>\n",
       "    <tr>\n",
       "      <th>1</th>\n",
       "      <td>28830</td>\n",
       "      <td>8</td>\n",
       "      <td>900</td>\n",
       "      <td>2812</td>\n",
       "      <td>2</td>\n",
       "      <td>10</td>\n",
       "      <td>8</td>\n",
       "      <td>7</td>\n",
       "      <td>0</td>\n",
       "      <td>1</td>\n",
       "      <td>...</td>\n",
       "      <td>0</td>\n",
       "      <td>0</td>\n",
       "      <td>0</td>\n",
       "      <td>0</td>\n",
       "      <td>0</td>\n",
       "      <td>0</td>\n",
       "      <td>0</td>\n",
       "      <td>0</td>\n",
       "      <td>0</td>\n",
       "      <td>2</td>\n",
       "    </tr>\n",
       "    <tr>\n",
       "      <th>2</th>\n",
       "      <td>94947</td>\n",
       "      <td>21</td>\n",
       "      <td>363</td>\n",
       "      <td>8973</td>\n",
       "      <td>2</td>\n",
       "      <td>10</td>\n",
       "      <td>5</td>\n",
       "      <td>5</td>\n",
       "      <td>0</td>\n",
       "      <td>1</td>\n",
       "      <td>...</td>\n",
       "      <td>0</td>\n",
       "      <td>0</td>\n",
       "      <td>0</td>\n",
       "      <td>0</td>\n",
       "      <td>0</td>\n",
       "      <td>0</td>\n",
       "      <td>0</td>\n",
       "      <td>0</td>\n",
       "      <td>0</td>\n",
       "      <td>3</td>\n",
       "    </tr>\n",
       "    <tr>\n",
       "      <th>3</th>\n",
       "      <td>590882</td>\n",
       "      <td>22</td>\n",
       "      <td>418</td>\n",
       "      <td>10694</td>\n",
       "      <td>2</td>\n",
       "      <td>10</td>\n",
       "      <td>6</td>\n",
       "      <td>5</td>\n",
       "      <td>0</td>\n",
       "      <td>1</td>\n",
       "      <td>...</td>\n",
       "      <td>0</td>\n",
       "      <td>0</td>\n",
       "      <td>0</td>\n",
       "      <td>0</td>\n",
       "      <td>0</td>\n",
       "      <td>0</td>\n",
       "      <td>0</td>\n",
       "      <td>0</td>\n",
       "      <td>0</td>\n",
       "      <td>2</td>\n",
       "    </tr>\n",
       "    <tr>\n",
       "      <th>4</th>\n",
       "      <td>201944</td>\n",
       "      <td>11</td>\n",
       "      <td>131</td>\n",
       "      <td>1488</td>\n",
       "      <td>3</td>\n",
       "      <td>30</td>\n",
       "      <td>8</td>\n",
       "      <td>9</td>\n",
       "      <td>1</td>\n",
       "      <td>0</td>\n",
       "      <td>...</td>\n",
       "      <td>0</td>\n",
       "      <td>0</td>\n",
       "      <td>0</td>\n",
       "      <td>0</td>\n",
       "      <td>0</td>\n",
       "      <td>0</td>\n",
       "      <td>0</td>\n",
       "      <td>0</td>\n",
       "      <td>0</td>\n",
       "      <td>3</td>\n",
       "    </tr>\n",
       "  </tbody>\n",
       "</table>\n",
       "<p>5 rows × 32 columns</p>\n",
       "</div>"
      ],
      "text/plain": [
       "   building_id  geo_level_1_id  geo_level_2_id  geo_level_3_id  \\\n",
       "0       802906               6             487           12198   \n",
       "1        28830               8             900            2812   \n",
       "2        94947              21             363            8973   \n",
       "3       590882              22             418           10694   \n",
       "4       201944              11             131            1488   \n",
       "\n",
       "   count_floors_pre_eq  age  area_percentage  height_percentage  \\\n",
       "0                    2   30                6                  5   \n",
       "1                    2   10                8                  7   \n",
       "2                    2   10                5                  5   \n",
       "3                    2   10                6                  5   \n",
       "4                    3   30                8                  9   \n",
       "\n",
       "   has_superstructure_adobe_mud  has_superstructure_mud_mortar_stone  ...  \\\n",
       "0                             1                                    1  ...   \n",
       "1                             0                                    1  ...   \n",
       "2                             0                                    1  ...   \n",
       "3                             0                                    1  ...   \n",
       "4                             1                                    0  ...   \n",
       "\n",
       "   has_secondary_use_hotel  has_secondary_use_rental  \\\n",
       "0                        0                         0   \n",
       "1                        0                         0   \n",
       "2                        0                         0   \n",
       "3                        0                         0   \n",
       "4                        0                         0   \n",
       "\n",
       "   has_secondary_use_institution  has_secondary_use_school  \\\n",
       "0                              0                         0   \n",
       "1                              0                         0   \n",
       "2                              0                         0   \n",
       "3                              0                         0   \n",
       "4                              0                         0   \n",
       "\n",
       "   has_secondary_use_industry  has_secondary_use_health_post  \\\n",
       "0                           0                              0   \n",
       "1                           0                              0   \n",
       "2                           0                              0   \n",
       "3                           0                              0   \n",
       "4                           0                              0   \n",
       "\n",
       "   has_secondary_use_gov_office  has_secondary_use_use_police  \\\n",
       "0                             0                             0   \n",
       "1                             0                             0   \n",
       "2                             0                             0   \n",
       "3                             0                             0   \n",
       "4                             0                             0   \n",
       "\n",
       "   has_secondary_use_other  damage_grade  \n",
       "0                        0             3  \n",
       "1                        0             2  \n",
       "2                        0             3  \n",
       "3                        0             2  \n",
       "4                        0             3  \n",
       "\n",
       "[5 rows x 32 columns]"
      ]
     },
     "execution_count": 22,
     "metadata": {},
     "output_type": "execute_result"
    }
   ],
   "source": [
    "#checking numerical column\n",
    "train_numerical.head()"
   ]
  },
  {
   "cell_type": "markdown",
   "metadata": {},
   "source": [
    "##### DATA SPLITTING"
   ]
  },
  {
   "cell_type": "code",
   "execution_count": 23,
   "metadata": {},
   "outputs": [],
   "source": [
    "X = train_joined.drop(columns = [\"building_id\", \"damage_grade\"],\n",
    "                     axis = 1)\n",
    "y = train_joined[\"damage_grade\"]"
   ]
  },
  {
   "cell_type": "code",
   "execution_count": 24,
   "metadata": {},
   "outputs": [
    {
     "data": {
      "text/plain": [
       "((234540, 38), (26061, 38), (234540,), (26061,))"
      ]
     },
     "execution_count": 24,
     "metadata": {},
     "output_type": "execute_result"
    }
   ],
   "source": [
    "X_train, X_val, y_train, y_val = train_test_split(X,\n",
    "                                                 y,\n",
    "                                                 test_size = 0.1,\n",
    "                                                 random_state = 42)\n",
    "\n",
    "X_train.shape, X_val.shape, y_train.shape, y_val.shape"
   ]
  },
  {
   "cell_type": "markdown",
   "metadata": {},
   "source": [
    "##### PREPROCESSING"
   ]
  },
  {
   "cell_type": "markdown",
   "metadata": {},
   "source": [
    "preprocessing is divided into two, namely preprocessing for the object or category column and preprocessing for the number column, then the two pipelines will be combined."
   ]
  },
  {
   "cell_type": "code",
   "execution_count": 25,
   "metadata": {},
   "outputs": [],
   "source": [
    "#for category/object columns\n",
    "cat_pipeline = Pipeline([\n",
    "    ('One Hot Encoder', OneHotEncoder(handle_unknown='ignore'))\n",
    "])\n",
    "\n",
    "#for numerical columns\n",
    "num_pipelines = Pipeline([\n",
    "    ('Standard Scaler', StandardScaler())\n",
    "])"
   ]
  },
  {
   "cell_type": "code",
   "execution_count": 26,
   "metadata": {},
   "outputs": [
    {
     "name": "stdout",
     "output_type": "stream",
     "text": [
      "object features :\n",
      "Index(['land_surface_condition', 'foundation_type', 'roof_type',\n",
      "       'ground_floor_type', 'other_floor_type', 'position',\n",
      "       'plan_configuration', 'legal_ownership_status'],\n",
      "      dtype='object')\n",
      "numerical features :\n",
      "Index(['geo_level_1_id', 'geo_level_2_id', 'geo_level_3_id',\n",
      "       'count_floors_pre_eq', 'age', 'area_percentage', 'height_percentage',\n",
      "       'has_superstructure_adobe_mud', 'has_superstructure_mud_mortar_stone',\n",
      "       'has_superstructure_stone_flag',\n",
      "       'has_superstructure_cement_mortar_stone',\n",
      "       'has_superstructure_mud_mortar_brick',\n",
      "       'has_superstructure_cement_mortar_brick', 'has_superstructure_timber',\n",
      "       'has_superstructure_bamboo', 'has_superstructure_rc_non_engineered',\n",
      "       'has_superstructure_rc_engineered', 'has_superstructure_other',\n",
      "       'count_families', 'has_secondary_use', 'has_secondary_use_agriculture',\n",
      "       'has_secondary_use_hotel', 'has_secondary_use_rental',\n",
      "       'has_secondary_use_institution', 'has_secondary_use_school',\n",
      "       'has_secondary_use_industry', 'has_secondary_use_health_post',\n",
      "       'has_secondary_use_gov_office', 'has_secondary_use_use_police',\n",
      "       'has_secondary_use_other'],\n",
      "      dtype='object')\n"
     ]
    }
   ],
   "source": [
    "#combining two pipelines\n",
    "#define num_features and obj_features\n",
    "obj_features = X[X.dtypes[X.dtypes == \"object\"].index].columns\n",
    "num_features = X[X.dtypes[X.dtypes != \"object\"].index].columns\n",
    "print(\"object features :\")\n",
    "print(obj_features)\n",
    "print(\"numerical features :\")\n",
    "print(num_features)\n",
    "\n",
    "#preprocessing\n",
    "preprocessor = ColumnTransformer(\n",
    "    transformers = [\n",
    "        ('Numerical', num_pipelines, num_features),\n",
    "        ('Categorical', cat_pipeline, obj_features)  \n",
    "    ],\n",
    "    remainder = \"drop\"\n",
    ")"
   ]
  },
  {
   "cell_type": "code",
   "execution_count": 27,
   "metadata": {},
   "outputs": [
    {
     "name": "stdout",
     "output_type": "stream",
     "text": [
      "X_train_prep.shape (234540, 68)\n",
      "X_eval_prep.shape (26061, 68)\n"
     ]
    }
   ],
   "source": [
    "#fitting preprocessing pipeline\n",
    "X_train_prep = preprocessor.fit_transform(X_train)\n",
    "X_val_prep =  preprocessor.transform(X_val)\n",
    "\n",
    "#checking shape\n",
    "print ('X_train_prep.shape' , X_train_prep.shape)\n",
    "print ('X_eval_prep.shape' , X_val_prep.shape)"
   ]
  },
  {
   "cell_type": "markdown",
   "metadata": {},
   "source": [
    "##### MODEL BUILD AND FITTING"
   ]
  },
  {
   "cell_type": "markdown",
   "metadata": {},
   "source": [
    "First, we will create a very simple model first, then if necessary, hyperparameter tuning will be carried out to improve the model to make it more accurate in predicting the data."
   ]
  },
  {
   "cell_type": "code",
   "execution_count": 28,
   "metadata": {},
   "outputs": [
    {
     "name": "stdout",
     "output_type": "stream",
     "text": [
      "0.7148229154675569\n",
      "[0.55465221 0.768652   0.65296974]\n"
     ]
    }
   ],
   "source": [
    "#model_1 = RandomForestClassifier\n",
    "\n",
    "#model building and fitting\n",
    "model_1 = RandomForestClassifier()\n",
    "model_1.fit(X_train_prep, y_train)\n",
    "\n",
    "#predicting validation data\n",
    "model_1_pred = model_1.predict(X_val_prep)\n",
    "\n",
    "#checking model accuracy score\n",
    "print(accuracy_score(y_val, model_1_pred))\n",
    "print(f1_score(y_val, model_1_pred, average=None))"
   ]
  },
  {
   "cell_type": "code",
   "execution_count": null,
   "metadata": {},
   "outputs": [],
   "source": [
    "#look for model_1 parameter\n",
    "model_1"
   ]
  },
  {
   "cell_type": "code",
   "execution_count": 29,
   "metadata": {},
   "outputs": [
    {
     "name": "stdout",
     "output_type": "stream",
     "text": [
      "0.6554621848739496\n",
      "[0.49546579 0.71859508 0.58401902]\n"
     ]
    }
   ],
   "source": [
    "#model_2 = KNeighborsClassifier\n",
    "\n",
    "#model building and fitting\n",
    "model_2 = KNeighborsClassifier()\n",
    "model_2.fit(X_train_prep, y_train)\n",
    "\n",
    "#predicting validation data\n",
    "model_2_pred = model_2.predict(X_val_prep)\n",
    "\n",
    "#checking model accuracy score\n",
    "print(accuracy_score(y_val, model_2_pred))\n",
    "print(f1_score(y_val, model_2_pred, average=None))"
   ]
  },
  {
   "cell_type": "code",
   "execution_count": null,
   "metadata": {},
   "outputs": [],
   "source": [
    "#look for model_2 parameter\n",
    "model_2"
   ]
  },
  {
   "cell_type": "code",
   "execution_count": 31,
   "metadata": {},
   "outputs": [
    {
     "name": "stdout",
     "output_type": "stream",
     "text": [
      "[20:26:01] WARNING: ..\\src\\learner.cc:1115: Starting in XGBoost 1.3.0, the default evaluation metric used with the objective 'multi:softprob' was changed from 'merror' to 'mlogloss'. Explicitly set eval_metric if you'd like to restore the old behavior.\n",
      "0.727600629292813\n",
      "[0.54864281 0.78292013 0.66037251]\n"
     ]
    }
   ],
   "source": [
    "#model_3 = XGBClassifier\n",
    "\n",
    "#model building and fitting\n",
    "model_3 = XGBClassifier()\n",
    "model_3.fit(X_train_prep, y_train)\n",
    "\n",
    "#predicting validation data\n",
    "model_3_pred = model_3.predict(X_val_prep)\n",
    "\n",
    "#checking model accuracy score\n",
    "print(accuracy_score(y_val, model_3_pred))\n",
    "print(f1_score(y_val, model_3_pred, average=None))"
   ]
  },
  {
   "cell_type": "code",
   "execution_count": null,
   "metadata": {},
   "outputs": [],
   "source": [
    "#look for model_3 parameter\n",
    "model_3"
   ]
  },
  {
   "cell_type": "markdown",
   "metadata": {},
   "source": [
    "##### OPTIMIZING (TUNING)"
   ]
  },
  {
   "cell_type": "markdown",
   "metadata": {},
   "source": [
    "Based on the three basic models that have been carried out, 2 models with the highest accuracy were taken, namely RandomForestClassifier model and XGBClassifier model."
   ]
  },
  {
   "cell_type": "markdown",
   "metadata": {},
   "source": [
    "RandomForestClassifier"
   ]
  },
  {
   "cell_type": "code",
   "execution_count": 35,
   "metadata": {
    "scrolled": false
   },
   "outputs": [
    {
     "name": "stdout",
     "output_type": "stream",
     "text": [
      "Fitting 5 folds for each of 10 candidates, totalling 50 fits\n",
      "[CV] n_estimators=10, min_samples_split=2, min_samples_leaf=2, max_features=auto, max_depth=2, criterion=gini, bootstrap=False \n"
     ]
    },
    {
     "name": "stderr",
     "output_type": "stream",
     "text": [
      "[Parallel(n_jobs=1)]: Using backend SequentialBackend with 1 concurrent workers.\n"
     ]
    },
    {
     "name": "stdout",
     "output_type": "stream",
     "text": [
      "[CV]  n_estimators=10, min_samples_split=2, min_samples_leaf=2, max_features=auto, max_depth=2, criterion=gini, bootstrap=False, score=0.571, total=   1.2s\n",
      "[CV] n_estimators=10, min_samples_split=2, min_samples_leaf=2, max_features=auto, max_depth=2, criterion=gini, bootstrap=False \n"
     ]
    },
    {
     "name": "stderr",
     "output_type": "stream",
     "text": [
      "[Parallel(n_jobs=1)]: Done   1 out of   1 | elapsed:    1.1s remaining:    0.0s\n"
     ]
    },
    {
     "name": "stdout",
     "output_type": "stream",
     "text": [
      "[CV]  n_estimators=10, min_samples_split=2, min_samples_leaf=2, max_features=auto, max_depth=2, criterion=gini, bootstrap=False, score=0.569, total=   1.2s\n",
      "[CV] n_estimators=10, min_samples_split=2, min_samples_leaf=2, max_features=auto, max_depth=2, criterion=gini, bootstrap=False \n"
     ]
    },
    {
     "name": "stderr",
     "output_type": "stream",
     "text": [
      "[Parallel(n_jobs=1)]: Done   2 out of   2 | elapsed:    2.3s remaining:    0.0s\n"
     ]
    },
    {
     "name": "stdout",
     "output_type": "stream",
     "text": [
      "[CV]  n_estimators=10, min_samples_split=2, min_samples_leaf=2, max_features=auto, max_depth=2, criterion=gini, bootstrap=False, score=0.569, total=   1.2s\n",
      "[CV] n_estimators=10, min_samples_split=2, min_samples_leaf=2, max_features=auto, max_depth=2, criterion=gini, bootstrap=False \n"
     ]
    },
    {
     "name": "stderr",
     "output_type": "stream",
     "text": [
      "[Parallel(n_jobs=1)]: Done   3 out of   3 | elapsed:    3.6s remaining:    0.0s\n"
     ]
    },
    {
     "name": "stdout",
     "output_type": "stream",
     "text": [
      "[CV]  n_estimators=10, min_samples_split=2, min_samples_leaf=2, max_features=auto, max_depth=2, criterion=gini, bootstrap=False, score=0.569, total=   1.2s\n",
      "[CV] n_estimators=10, min_samples_split=2, min_samples_leaf=2, max_features=auto, max_depth=2, criterion=gini, bootstrap=False \n"
     ]
    },
    {
     "name": "stderr",
     "output_type": "stream",
     "text": [
      "[Parallel(n_jobs=1)]: Done   4 out of   4 | elapsed:    4.8s remaining:    0.0s\n"
     ]
    },
    {
     "name": "stdout",
     "output_type": "stream",
     "text": [
      "[CV]  n_estimators=10, min_samples_split=2, min_samples_leaf=2, max_features=auto, max_depth=2, criterion=gini, bootstrap=False, score=0.569, total=   1.1s\n",
      "[CV] n_estimators=150, min_samples_split=10, min_samples_leaf=4, max_features=auto, max_depth=2, criterion=entropy, bootstrap=False \n"
     ]
    },
    {
     "name": "stderr",
     "output_type": "stream",
     "text": [
      "[Parallel(n_jobs=1)]: Done   5 out of   5 | elapsed:    5.9s remaining:    0.0s\n"
     ]
    },
    {
     "name": "stdout",
     "output_type": "stream",
     "text": [
      "[CV]  n_estimators=150, min_samples_split=10, min_samples_leaf=4, max_features=auto, max_depth=2, criterion=entropy, bootstrap=False, score=0.569, total=  15.4s\n",
      "[CV] n_estimators=150, min_samples_split=10, min_samples_leaf=4, max_features=auto, max_depth=2, criterion=entropy, bootstrap=False \n"
     ]
    },
    {
     "name": "stderr",
     "output_type": "stream",
     "text": [
      "[Parallel(n_jobs=1)]: Done   6 out of   6 | elapsed:   21.2s remaining:    0.0s\n"
     ]
    },
    {
     "name": "stdout",
     "output_type": "stream",
     "text": [
      "[CV]  n_estimators=150, min_samples_split=10, min_samples_leaf=4, max_features=auto, max_depth=2, criterion=entropy, bootstrap=False, score=0.569, total=  15.7s\n",
      "[CV] n_estimators=150, min_samples_split=10, min_samples_leaf=4, max_features=auto, max_depth=2, criterion=entropy, bootstrap=False \n"
     ]
    },
    {
     "name": "stderr",
     "output_type": "stream",
     "text": [
      "[Parallel(n_jobs=1)]: Done   7 out of   7 | elapsed:   37.0s remaining:    0.0s\n"
     ]
    },
    {
     "name": "stdout",
     "output_type": "stream",
     "text": [
      "[CV]  n_estimators=150, min_samples_split=10, min_samples_leaf=4, max_features=auto, max_depth=2, criterion=entropy, bootstrap=False, score=0.569, total=  16.7s\n",
      "[CV] n_estimators=150, min_samples_split=10, min_samples_leaf=4, max_features=auto, max_depth=2, criterion=entropy, bootstrap=False \n"
     ]
    },
    {
     "name": "stderr",
     "output_type": "stream",
     "text": [
      "[Parallel(n_jobs=1)]: Done   8 out of   8 | elapsed:   53.7s remaining:    0.0s\n"
     ]
    },
    {
     "name": "stdout",
     "output_type": "stream",
     "text": [
      "[CV]  n_estimators=150, min_samples_split=10, min_samples_leaf=4, max_features=auto, max_depth=2, criterion=entropy, bootstrap=False, score=0.569, total=  16.4s\n",
      "[CV] n_estimators=150, min_samples_split=10, min_samples_leaf=4, max_features=auto, max_depth=2, criterion=entropy, bootstrap=False \n"
     ]
    },
    {
     "name": "stderr",
     "output_type": "stream",
     "text": [
      "[Parallel(n_jobs=1)]: Done   9 out of   9 | elapsed:  1.2min remaining:    0.0s\n"
     ]
    },
    {
     "name": "stdout",
     "output_type": "stream",
     "text": [
      "[CV]  n_estimators=150, min_samples_split=10, min_samples_leaf=4, max_features=auto, max_depth=2, criterion=entropy, bootstrap=False, score=0.569, total=  15.0s\n",
      "[CV] n_estimators=20, min_samples_split=10, min_samples_leaf=2, max_features=auto, max_depth=None, criterion=gini, bootstrap=False \n",
      "[CV]  n_estimators=20, min_samples_split=10, min_samples_leaf=2, max_features=auto, max_depth=None, criterion=gini, bootstrap=False, score=0.718, total=  12.8s\n",
      "[CV] n_estimators=20, min_samples_split=10, min_samples_leaf=2, max_features=auto, max_depth=None, criterion=gini, bootstrap=False \n",
      "[CV]  n_estimators=20, min_samples_split=10, min_samples_leaf=2, max_features=auto, max_depth=None, criterion=gini, bootstrap=False, score=0.714, total=  11.9s\n",
      "[CV] n_estimators=20, min_samples_split=10, min_samples_leaf=2, max_features=auto, max_depth=None, criterion=gini, bootstrap=False \n",
      "[CV]  n_estimators=20, min_samples_split=10, min_samples_leaf=2, max_features=auto, max_depth=None, criterion=gini, bootstrap=False, score=0.719, total=  12.0s\n",
      "[CV] n_estimators=20, min_samples_split=10, min_samples_leaf=2, max_features=auto, max_depth=None, criterion=gini, bootstrap=False \n",
      "[CV]  n_estimators=20, min_samples_split=10, min_samples_leaf=2, max_features=auto, max_depth=None, criterion=gini, bootstrap=False, score=0.715, total=  12.4s\n",
      "[CV] n_estimators=20, min_samples_split=10, min_samples_leaf=2, max_features=auto, max_depth=None, criterion=gini, bootstrap=False \n",
      "[CV]  n_estimators=20, min_samples_split=10, min_samples_leaf=2, max_features=auto, max_depth=None, criterion=gini, bootstrap=False, score=0.720, total=  12.9s\n",
      "[CV] n_estimators=20, min_samples_split=20, min_samples_leaf=1, max_features=auto, max_depth=2, criterion=entropy, bootstrap=True \n",
      "[CV]  n_estimators=20, min_samples_split=20, min_samples_leaf=1, max_features=auto, max_depth=2, criterion=entropy, bootstrap=True, score=0.569, total=   1.8s\n",
      "[CV] n_estimators=20, min_samples_split=20, min_samples_leaf=1, max_features=auto, max_depth=2, criterion=entropy, bootstrap=True \n",
      "[CV]  n_estimators=20, min_samples_split=20, min_samples_leaf=1, max_features=auto, max_depth=2, criterion=entropy, bootstrap=True, score=0.571, total=   1.8s\n",
      "[CV] n_estimators=20, min_samples_split=20, min_samples_leaf=1, max_features=auto, max_depth=2, criterion=entropy, bootstrap=True \n",
      "[CV]  n_estimators=20, min_samples_split=20, min_samples_leaf=1, max_features=auto, max_depth=2, criterion=entropy, bootstrap=True, score=0.569, total=   1.8s\n",
      "[CV] n_estimators=20, min_samples_split=20, min_samples_leaf=1, max_features=auto, max_depth=2, criterion=entropy, bootstrap=True \n",
      "[CV]  n_estimators=20, min_samples_split=20, min_samples_leaf=1, max_features=auto, max_depth=2, criterion=entropy, bootstrap=True, score=0.569, total=   1.7s\n",
      "[CV] n_estimators=20, min_samples_split=20, min_samples_leaf=1, max_features=auto, max_depth=2, criterion=entropy, bootstrap=True \n",
      "[CV]  n_estimators=20, min_samples_split=20, min_samples_leaf=1, max_features=auto, max_depth=2, criterion=entropy, bootstrap=True, score=0.569, total=   1.7s\n",
      "[CV] n_estimators=150, min_samples_split=2, min_samples_leaf=1, max_features=auto, max_depth=None, criterion=entropy, bootstrap=True \n",
      "[CV]  n_estimators=150, min_samples_split=2, min_samples_leaf=1, max_features=auto, max_depth=None, criterion=entropy, bootstrap=True, score=0.708, total= 1.4min\n",
      "[CV] n_estimators=150, min_samples_split=2, min_samples_leaf=1, max_features=auto, max_depth=None, criterion=entropy, bootstrap=True \n",
      "[CV]  n_estimators=150, min_samples_split=2, min_samples_leaf=1, max_features=auto, max_depth=None, criterion=entropy, bootstrap=True, score=0.709, total= 1.4min\n",
      "[CV] n_estimators=150, min_samples_split=2, min_samples_leaf=1, max_features=auto, max_depth=None, criterion=entropy, bootstrap=True \n",
      "[CV]  n_estimators=150, min_samples_split=2, min_samples_leaf=1, max_features=auto, max_depth=None, criterion=entropy, bootstrap=True, score=0.712, total= 1.3min\n",
      "[CV] n_estimators=150, min_samples_split=2, min_samples_leaf=1, max_features=auto, max_depth=None, criterion=entropy, bootstrap=True \n",
      "[CV]  n_estimators=150, min_samples_split=2, min_samples_leaf=1, max_features=auto, max_depth=None, criterion=entropy, bootstrap=True, score=0.710, total= 1.2min\n",
      "[CV] n_estimators=150, min_samples_split=2, min_samples_leaf=1, max_features=auto, max_depth=None, criterion=entropy, bootstrap=True \n",
      "[CV]  n_estimators=150, min_samples_split=2, min_samples_leaf=1, max_features=auto, max_depth=None, criterion=entropy, bootstrap=True, score=0.711, total= 1.2min\n",
      "[CV] n_estimators=150, min_samples_split=10, min_samples_leaf=1, max_features=auto, max_depth=50, criterion=gini, bootstrap=True \n",
      "[CV]  n_estimators=150, min_samples_split=10, min_samples_leaf=1, max_features=auto, max_depth=50, criterion=gini, bootstrap=True, score=0.722, total= 1.0min\n",
      "[CV] n_estimators=150, min_samples_split=10, min_samples_leaf=1, max_features=auto, max_depth=50, criterion=gini, bootstrap=True \n",
      "[CV]  n_estimators=150, min_samples_split=10, min_samples_leaf=1, max_features=auto, max_depth=50, criterion=gini, bootstrap=True, score=0.722, total= 1.0min\n",
      "[CV] n_estimators=150, min_samples_split=10, min_samples_leaf=1, max_features=auto, max_depth=50, criterion=gini, bootstrap=True \n",
      "[CV]  n_estimators=150, min_samples_split=10, min_samples_leaf=1, max_features=auto, max_depth=50, criterion=gini, bootstrap=True, score=0.723, total= 1.0min\n",
      "[CV] n_estimators=150, min_samples_split=10, min_samples_leaf=1, max_features=auto, max_depth=50, criterion=gini, bootstrap=True \n",
      "[CV]  n_estimators=150, min_samples_split=10, min_samples_leaf=1, max_features=auto, max_depth=50, criterion=gini, bootstrap=True, score=0.723, total= 1.0min\n",
      "[CV] n_estimators=150, min_samples_split=10, min_samples_leaf=1, max_features=auto, max_depth=50, criterion=gini, bootstrap=True \n",
      "[CV]  n_estimators=150, min_samples_split=10, min_samples_leaf=1, max_features=auto, max_depth=50, criterion=gini, bootstrap=True, score=0.722, total= 1.1min\n",
      "[CV] n_estimators=20, min_samples_split=5, min_samples_leaf=4, max_features=auto, max_depth=2, criterion=gini, bootstrap=False \n",
      "[CV]  n_estimators=20, min_samples_split=5, min_samples_leaf=4, max_features=auto, max_depth=2, criterion=gini, bootstrap=False, score=0.569, total=   2.4s\n",
      "[CV] n_estimators=20, min_samples_split=5, min_samples_leaf=4, max_features=auto, max_depth=2, criterion=gini, bootstrap=False \n",
      "[CV]  n_estimators=20, min_samples_split=5, min_samples_leaf=4, max_features=auto, max_depth=2, criterion=gini, bootstrap=False, score=0.569, total=   2.5s\n",
      "[CV] n_estimators=20, min_samples_split=5, min_samples_leaf=4, max_features=auto, max_depth=2, criterion=gini, bootstrap=False \n",
      "[CV]  n_estimators=20, min_samples_split=5, min_samples_leaf=4, max_features=auto, max_depth=2, criterion=gini, bootstrap=False, score=0.569, total=   2.5s\n",
      "[CV] n_estimators=20, min_samples_split=5, min_samples_leaf=4, max_features=auto, max_depth=2, criterion=gini, bootstrap=False \n",
      "[CV]  n_estimators=20, min_samples_split=5, min_samples_leaf=4, max_features=auto, max_depth=2, criterion=gini, bootstrap=False, score=0.569, total=   2.6s\n",
      "[CV] n_estimators=20, min_samples_split=5, min_samples_leaf=4, max_features=auto, max_depth=2, criterion=gini, bootstrap=False \n",
      "[CV]  n_estimators=20, min_samples_split=5, min_samples_leaf=4, max_features=auto, max_depth=2, criterion=gini, bootstrap=False, score=0.569, total=   2.5s\n",
      "[CV] n_estimators=75, min_samples_split=20, min_samples_leaf=4, max_features=sqrt, max_depth=20, criterion=entropy, bootstrap=False \n",
      "[CV]  n_estimators=75, min_samples_split=20, min_samples_leaf=4, max_features=sqrt, max_depth=20, criterion=entropy, bootstrap=False, score=0.693, total=  40.2s\n",
      "[CV] n_estimators=75, min_samples_split=20, min_samples_leaf=4, max_features=sqrt, max_depth=20, criterion=entropy, bootstrap=False \n",
      "[CV]  n_estimators=75, min_samples_split=20, min_samples_leaf=4, max_features=sqrt, max_depth=20, criterion=entropy, bootstrap=False, score=0.693, total=  38.1s\n",
      "[CV] n_estimators=75, min_samples_split=20, min_samples_leaf=4, max_features=sqrt, max_depth=20, criterion=entropy, bootstrap=False \n",
      "[CV]  n_estimators=75, min_samples_split=20, min_samples_leaf=4, max_features=sqrt, max_depth=20, criterion=entropy, bootstrap=False, score=0.693, total=  37.5s\n",
      "[CV] n_estimators=75, min_samples_split=20, min_samples_leaf=4, max_features=sqrt, max_depth=20, criterion=entropy, bootstrap=False \n"
     ]
    },
    {
     "name": "stdout",
     "output_type": "stream",
     "text": [
      "[CV]  n_estimators=75, min_samples_split=20, min_samples_leaf=4, max_features=sqrt, max_depth=20, criterion=entropy, bootstrap=False, score=0.693, total=  37.8s\n",
      "[CV] n_estimators=75, min_samples_split=20, min_samples_leaf=4, max_features=sqrt, max_depth=20, criterion=entropy, bootstrap=False \n",
      "[CV]  n_estimators=75, min_samples_split=20, min_samples_leaf=4, max_features=sqrt, max_depth=20, criterion=entropy, bootstrap=False, score=0.691, total=  37.7s\n",
      "[CV] n_estimators=10, min_samples_split=2, min_samples_leaf=2, max_features=auto, max_depth=None, criterion=entropy, bootstrap=True \n",
      "[CV]  n_estimators=10, min_samples_split=2, min_samples_leaf=2, max_features=auto, max_depth=None, criterion=entropy, bootstrap=True, score=0.700, total=   4.4s\n",
      "[CV] n_estimators=10, min_samples_split=2, min_samples_leaf=2, max_features=auto, max_depth=None, criterion=entropy, bootstrap=True \n",
      "[CV]  n_estimators=10, min_samples_split=2, min_samples_leaf=2, max_features=auto, max_depth=None, criterion=entropy, bootstrap=True, score=0.698, total=   4.2s\n",
      "[CV] n_estimators=10, min_samples_split=2, min_samples_leaf=2, max_features=auto, max_depth=None, criterion=entropy, bootstrap=True \n",
      "[CV]  n_estimators=10, min_samples_split=2, min_samples_leaf=2, max_features=auto, max_depth=None, criterion=entropy, bootstrap=True, score=0.705, total=   4.2s\n",
      "[CV] n_estimators=10, min_samples_split=2, min_samples_leaf=2, max_features=auto, max_depth=None, criterion=entropy, bootstrap=True \n",
      "[CV]  n_estimators=10, min_samples_split=2, min_samples_leaf=2, max_features=auto, max_depth=None, criterion=entropy, bootstrap=True, score=0.706, total=   4.2s\n",
      "[CV] n_estimators=10, min_samples_split=2, min_samples_leaf=2, max_features=auto, max_depth=None, criterion=entropy, bootstrap=True \n",
      "[CV]  n_estimators=10, min_samples_split=2, min_samples_leaf=2, max_features=auto, max_depth=None, criterion=entropy, bootstrap=True, score=0.700, total=   4.3s\n",
      "[CV] n_estimators=75, min_samples_split=5, min_samples_leaf=4, max_features=sqrt, max_depth=20, criterion=gini, bootstrap=True \n",
      "[CV]  n_estimators=75, min_samples_split=5, min_samples_leaf=4, max_features=sqrt, max_depth=20, criterion=gini, bootstrap=True, score=0.690, total=  24.7s\n",
      "[CV] n_estimators=75, min_samples_split=5, min_samples_leaf=4, max_features=sqrt, max_depth=20, criterion=gini, bootstrap=True \n",
      "[CV]  n_estimators=75, min_samples_split=5, min_samples_leaf=4, max_features=sqrt, max_depth=20, criterion=gini, bootstrap=True, score=0.692, total=  24.7s\n",
      "[CV] n_estimators=75, min_samples_split=5, min_samples_leaf=4, max_features=sqrt, max_depth=20, criterion=gini, bootstrap=True \n",
      "[CV]  n_estimators=75, min_samples_split=5, min_samples_leaf=4, max_features=sqrt, max_depth=20, criterion=gini, bootstrap=True, score=0.693, total=  24.8s\n",
      "[CV] n_estimators=75, min_samples_split=5, min_samples_leaf=4, max_features=sqrt, max_depth=20, criterion=gini, bootstrap=True \n",
      "[CV]  n_estimators=75, min_samples_split=5, min_samples_leaf=4, max_features=sqrt, max_depth=20, criterion=gini, bootstrap=True, score=0.694, total=  24.3s\n",
      "[CV] n_estimators=75, min_samples_split=5, min_samples_leaf=4, max_features=sqrt, max_depth=20, criterion=gini, bootstrap=True \n",
      "[CV]  n_estimators=75, min_samples_split=5, min_samples_leaf=4, max_features=sqrt, max_depth=20, criterion=gini, bootstrap=True, score=0.692, total=  24.6s\n"
     ]
    },
    {
     "name": "stderr",
     "output_type": "stream",
     "text": [
      "[Parallel(n_jobs=1)]: Done  50 out of  50 | elapsed: 20.1min finished\n"
     ]
    },
    {
     "name": "stdout",
     "output_type": "stream",
     "text": [
      "RandomForestClassifier(max_depth=50, min_samples_split=10, n_estimators=150)\n",
      "{'n_estimators': 150, 'min_samples_split': 10, 'min_samples_leaf': 1, 'max_features': 'auto', 'max_depth': 50, 'criterion': 'gini', 'bootstrap': True}\n",
      "0.7225377334356613\n"
     ]
    }
   ],
   "source": [
    "#tuning RandomForestClassifier model\n",
    "\n",
    "#define parameter for RandomForestClassifier\n",
    "params_1 = {'n_estimators':[2, 5, 10, 20, 50, 75, 150],\n",
    "        'criterion':['gini', 'entropy'],\n",
    "        'max_depth':[2, 5, 10, 20, 50, None],\n",
    "        'min_samples_split':[2, 5, 10, 20],\n",
    "        'min_samples_leaf': [1, 2, 4],\n",
    "        'bootstrap': [True, False],\n",
    "        'max_features': ['auto', 'sqrt'],\n",
    "         }\n",
    "\n",
    "rf = RandomForestClassifier()\n",
    "\n",
    "random_search_1 = RandomizedSearchCV(estimator=rf, \n",
    "                                   param_distributions=params_1, \n",
    "                                   scoring='accuracy', \n",
    "                                   verbose=10,\n",
    "                                   cv = 5)\n",
    "random_search_1.fit(X_train_prep, y_train)\n",
    "\n",
    "print(random_search_1.best_estimator_)\n",
    "print(random_search_1.best_params_)\n",
    "print(random_search_1.best_score_)"
   ]
  },
  {
   "cell_type": "code",
   "execution_count": 36,
   "metadata": {},
   "outputs": [
    {
     "data": {
      "text/plain": [
       "0.7265645984421166"
      ]
     },
     "execution_count": 36,
     "metadata": {},
     "output_type": "execute_result"
    }
   ],
   "source": [
    "#predicting validation data with optimized rf model\n",
    "rf_val = random_search_1.predict(X_val_prep)\n",
    "\n",
    "#optimized model accuracy\n",
    "accuracy_score(y_val, rf_val)"
   ]
  },
  {
   "cell_type": "markdown",
   "metadata": {},
   "source": [
    "XGBClassifier"
   ]
  },
  {
   "cell_type": "code",
   "execution_count": 47,
   "metadata": {
    "scrolled": false
   },
   "outputs": [
    {
     "name": "stdout",
     "output_type": "stream",
     "text": [
      "Fitting 4 folds for each of 10 candidates, totalling 40 fits\n",
      "[CV] reg_lambda=51.2, reg_alpha=0.4, n_estimators=100, min_child_weight=1, max_depth=90, learning_rate=0.5, gamma=200 \n"
     ]
    },
    {
     "name": "stderr",
     "output_type": "stream",
     "text": [
      "[Parallel(n_jobs=1)]: Using backend SequentialBackend with 1 concurrent workers.\n"
     ]
    },
    {
     "name": "stdout",
     "output_type": "stream",
     "text": [
      "[22:39:44] WARNING: ..\\src\\learner.cc:1115: Starting in XGBoost 1.3.0, the default evaluation metric used with the objective 'multi:softprob' was changed from 'merror' to 'mlogloss'. Explicitly set eval_metric if you'd like to restore the old behavior.\n",
      "[CV]  reg_lambda=51.2, reg_alpha=0.4, n_estimators=100, min_child_weight=1, max_depth=90, learning_rate=0.5, gamma=200, score=0.661, total= 4.9min\n",
      "[CV] reg_lambda=51.2, reg_alpha=0.4, n_estimators=100, min_child_weight=1, max_depth=90, learning_rate=0.5, gamma=200 \n"
     ]
    },
    {
     "name": "stderr",
     "output_type": "stream",
     "text": [
      "[Parallel(n_jobs=1)]: Done   1 out of   1 | elapsed:  4.9min remaining:    0.0s\n"
     ]
    },
    {
     "name": "stdout",
     "output_type": "stream",
     "text": [
      "[22:44:37] WARNING: ..\\src\\learner.cc:1115: Starting in XGBoost 1.3.0, the default evaluation metric used with the objective 'multi:softprob' was changed from 'merror' to 'mlogloss'. Explicitly set eval_metric if you'd like to restore the old behavior.\n",
      "[CV]  reg_lambda=51.2, reg_alpha=0.4, n_estimators=100, min_child_weight=1, max_depth=90, learning_rate=0.5, gamma=200, score=0.659, total= 4.6min\n",
      "[CV] reg_lambda=51.2, reg_alpha=0.4, n_estimators=100, min_child_weight=1, max_depth=90, learning_rate=0.5, gamma=200 \n"
     ]
    },
    {
     "name": "stderr",
     "output_type": "stream",
     "text": [
      "[Parallel(n_jobs=1)]: Done   2 out of   2 | elapsed:  9.5min remaining:    0.0s\n"
     ]
    },
    {
     "name": "stdout",
     "output_type": "stream",
     "text": [
      "[22:49:12] WARNING: ..\\src\\learner.cc:1115: Starting in XGBoost 1.3.0, the default evaluation metric used with the objective 'multi:softprob' was changed from 'merror' to 'mlogloss'. Explicitly set eval_metric if you'd like to restore the old behavior.\n",
      "[CV]  reg_lambda=51.2, reg_alpha=0.4, n_estimators=100, min_child_weight=1, max_depth=90, learning_rate=0.5, gamma=200, score=0.660, total= 4.7min\n",
      "[CV] reg_lambda=51.2, reg_alpha=0.4, n_estimators=100, min_child_weight=1, max_depth=90, learning_rate=0.5, gamma=200 \n"
     ]
    },
    {
     "name": "stderr",
     "output_type": "stream",
     "text": [
      "[Parallel(n_jobs=1)]: Done   3 out of   3 | elapsed: 14.2min remaining:    0.0s\n"
     ]
    },
    {
     "name": "stdout",
     "output_type": "stream",
     "text": [
      "[22:53:54] WARNING: ..\\src\\learner.cc:1115: Starting in XGBoost 1.3.0, the default evaluation metric used with the objective 'multi:softprob' was changed from 'merror' to 'mlogloss'. Explicitly set eval_metric if you'd like to restore the old behavior.\n",
      "[CV]  reg_lambda=51.2, reg_alpha=0.4, n_estimators=100, min_child_weight=1, max_depth=90, learning_rate=0.5, gamma=200, score=0.663, total= 4.9min\n",
      "[CV] reg_lambda=1.6, reg_alpha=1.6, n_estimators=800, min_child_weight=3, max_depth=30, learning_rate=0.5, gamma=0.1 \n"
     ]
    },
    {
     "name": "stderr",
     "output_type": "stream",
     "text": [
      "[Parallel(n_jobs=1)]: Done   4 out of   4 | elapsed: 19.0min remaining:    0.0s\n"
     ]
    },
    {
     "name": "stdout",
     "output_type": "stream",
     "text": [
      "[22:58:46] WARNING: ..\\src\\learner.cc:1115: Starting in XGBoost 1.3.0, the default evaluation metric used with the objective 'multi:softprob' was changed from 'merror' to 'mlogloss'. Explicitly set eval_metric if you'd like to restore the old behavior.\n",
      "[CV]  reg_lambda=1.6, reg_alpha=1.6, n_estimators=800, min_child_weight=3, max_depth=30, learning_rate=0.5, gamma=0.1, score=0.721, total=21.5min\n"
     ]
    },
    {
     "name": "stderr",
     "output_type": "stream",
     "text": [
      "[Parallel(n_jobs=1)]: Done   5 out of   5 | elapsed: 40.6min remaining:    0.0s\n"
     ]
    },
    {
     "name": "stdout",
     "output_type": "stream",
     "text": [
      "[CV] reg_lambda=1.6, reg_alpha=1.6, n_estimators=800, min_child_weight=3, max_depth=30, learning_rate=0.5, gamma=0.1 \n",
      "[23:20:20] WARNING: ..\\src\\learner.cc:1115: Starting in XGBoost 1.3.0, the default evaluation metric used with the objective 'multi:softprob' was changed from 'merror' to 'mlogloss'. Explicitly set eval_metric if you'd like to restore the old behavior.\n",
      "[CV]  reg_lambda=1.6, reg_alpha=1.6, n_estimators=800, min_child_weight=3, max_depth=30, learning_rate=0.5, gamma=0.1, score=0.721, total=20.9min\n"
     ]
    },
    {
     "name": "stderr",
     "output_type": "stream",
     "text": [
      "[Parallel(n_jobs=1)]: Done   6 out of   6 | elapsed: 61.4min remaining:    0.0s\n"
     ]
    },
    {
     "name": "stdout",
     "output_type": "stream",
     "text": [
      "[CV] reg_lambda=1.6, reg_alpha=1.6, n_estimators=800, min_child_weight=3, max_depth=30, learning_rate=0.5, gamma=0.1 \n",
      "[23:41:18] WARNING: ..\\src\\learner.cc:1115: Starting in XGBoost 1.3.0, the default evaluation metric used with the objective 'multi:softprob' was changed from 'merror' to 'mlogloss'. Explicitly set eval_metric if you'd like to restore the old behavior.\n",
      "[CV]  reg_lambda=1.6, reg_alpha=1.6, n_estimators=800, min_child_weight=3, max_depth=30, learning_rate=0.5, gamma=0.1, score=0.725, total=20.9min\n"
     ]
    },
    {
     "name": "stderr",
     "output_type": "stream",
     "text": [
      "[Parallel(n_jobs=1)]: Done   7 out of   7 | elapsed: 82.4min remaining:    0.0s\n"
     ]
    },
    {
     "name": "stdout",
     "output_type": "stream",
     "text": [
      "[CV] reg_lambda=1.6, reg_alpha=1.6, n_estimators=800, min_child_weight=3, max_depth=30, learning_rate=0.5, gamma=0.1 \n",
      "[00:02:26] WARNING: ..\\src\\learner.cc:1115: Starting in XGBoost 1.3.0, the default evaluation metric used with the objective 'multi:softprob' was changed from 'merror' to 'mlogloss'. Explicitly set eval_metric if you'd like to restore the old behavior.\n",
      "[CV]  reg_lambda=1.6, reg_alpha=1.6, n_estimators=800, min_child_weight=3, max_depth=30, learning_rate=0.5, gamma=0.1, score=0.724, total=20.8min\n"
     ]
    },
    {
     "name": "stderr",
     "output_type": "stream",
     "text": [
      "[Parallel(n_jobs=1)]: Done   8 out of   8 | elapsed: 103.2min remaining:    0.0s\n"
     ]
    },
    {
     "name": "stdout",
     "output_type": "stream",
     "text": [
      "[CV] reg_lambda=12.8, reg_alpha=0.8, n_estimators=400, min_child_weight=6, max_depth=45, learning_rate=0.01, gamma=25.6 \n",
      "[00:23:32] WARNING: ..\\src\\learner.cc:1115: Starting in XGBoost 1.3.0, the default evaluation metric used with the objective 'multi:softprob' was changed from 'merror' to 'mlogloss'. Explicitly set eval_metric if you'd like to restore the old behavior.\n",
      "[CV]  reg_lambda=12.8, reg_alpha=0.8, n_estimators=400, min_child_weight=6, max_depth=45, learning_rate=0.01, gamma=25.6, score=0.704, total=13.0min\n",
      "[CV] reg_lambda=12.8, reg_alpha=0.8, n_estimators=400, min_child_weight=6, max_depth=45, learning_rate=0.01, gamma=25.6 \n"
     ]
    },
    {
     "name": "stderr",
     "output_type": "stream",
     "text": [
      "[Parallel(n_jobs=1)]: Done   9 out of   9 | elapsed: 116.2min remaining:    0.0s\n"
     ]
    },
    {
     "name": "stdout",
     "output_type": "stream",
     "text": [
      "[00:35:57] WARNING: ..\\src\\learner.cc:1115: Starting in XGBoost 1.3.0, the default evaluation metric used with the objective 'multi:softprob' was changed from 'merror' to 'mlogloss'. Explicitly set eval_metric if you'd like to restore the old behavior.\n",
      "[CV]  reg_lambda=12.8, reg_alpha=0.8, n_estimators=400, min_child_weight=6, max_depth=45, learning_rate=0.01, gamma=25.6, score=0.703, total=12.7min\n",
      "[CV] reg_lambda=12.8, reg_alpha=0.8, n_estimators=400, min_child_weight=6, max_depth=45, learning_rate=0.01, gamma=25.6 \n",
      "[00:48:45] WARNING: ..\\src\\learner.cc:1115: Starting in XGBoost 1.3.0, the default evaluation metric used with the objective 'multi:softprob' was changed from 'merror' to 'mlogloss'. Explicitly set eval_metric if you'd like to restore the old behavior.\n",
      "[CV]  reg_lambda=12.8, reg_alpha=0.8, n_estimators=400, min_child_weight=6, max_depth=45, learning_rate=0.01, gamma=25.6, score=0.699, total=12.5min\n",
      "[CV] reg_lambda=12.8, reg_alpha=0.8, n_estimators=400, min_child_weight=6, max_depth=45, learning_rate=0.01, gamma=25.6 \n",
      "[01:01:28] WARNING: ..\\src\\learner.cc:1115: Starting in XGBoost 1.3.0, the default evaluation metric used with the objective 'multi:softprob' was changed from 'merror' to 'mlogloss'. Explicitly set eval_metric if you'd like to restore the old behavior.\n",
      "[CV]  reg_lambda=12.8, reg_alpha=0.8, n_estimators=400, min_child_weight=6, max_depth=45, learning_rate=0.01, gamma=25.6, score=0.699, total=13.2min\n",
      "[CV] reg_lambda=0.4, reg_alpha=0.8, n_estimators=200, min_child_weight=2, max_depth=60, learning_rate=0.03, gamma=3.2 \n",
      "[01:14:54] WARNING: ..\\src\\learner.cc:1115: Starting in XGBoost 1.3.0, the default evaluation metric used with the objective 'multi:softprob' was changed from 'merror' to 'mlogloss'. Explicitly set eval_metric if you'd like to restore the old behavior.\n",
      "[CV]  reg_lambda=0.4, reg_alpha=0.8, n_estimators=200, min_child_weight=2, max_depth=60, learning_rate=0.03, gamma=3.2, score=0.741, total=14.7min\n",
      "[CV] reg_lambda=0.4, reg_alpha=0.8, n_estimators=200, min_child_weight=2, max_depth=60, learning_rate=0.03, gamma=3.2 \n",
      "[01:29:03] WARNING: ..\\src\\learner.cc:1115: Starting in XGBoost 1.3.0, the default evaluation metric used with the objective 'multi:softprob' was changed from 'merror' to 'mlogloss'. Explicitly set eval_metric if you'd like to restore the old behavior.\n",
      "[CV]  reg_lambda=0.4, reg_alpha=0.8, n_estimators=200, min_child_weight=2, max_depth=60, learning_rate=0.03, gamma=3.2, score=0.740, total=14.3min\n",
      "[CV] reg_lambda=0.4, reg_alpha=0.8, n_estimators=200, min_child_weight=2, max_depth=60, learning_rate=0.03, gamma=3.2 \n",
      "[01:43:24] WARNING: ..\\src\\learner.cc:1115: Starting in XGBoost 1.3.0, the default evaluation metric used with the objective 'multi:softprob' was changed from 'merror' to 'mlogloss'. Explicitly set eval_metric if you'd like to restore the old behavior.\n",
      "[CV]  reg_lambda=0.4, reg_alpha=0.8, n_estimators=200, min_child_weight=2, max_depth=60, learning_rate=0.03, gamma=3.2, score=0.740, total=15.1min\n",
      "[CV] reg_lambda=0.4, reg_alpha=0.8, n_estimators=200, min_child_weight=2, max_depth=60, learning_rate=0.03, gamma=3.2 \n",
      "[01:58:33] WARNING: ..\\src\\learner.cc:1115: Starting in XGBoost 1.3.0, the default evaluation metric used with the objective 'multi:softprob' was changed from 'merror' to 'mlogloss'. Explicitly set eval_metric if you'd like to restore the old behavior.\n",
      "[CV]  reg_lambda=0.4, reg_alpha=0.8, n_estimators=200, min_child_weight=2, max_depth=60, learning_rate=0.03, gamma=3.2, score=0.742, total=14.5min\n",
      "[CV] reg_lambda=25.6, reg_alpha=0.8, n_estimators=600, min_child_weight=6, max_depth=100, learning_rate=0.1, gamma=6.4 \n",
      "[02:13:06] WARNING: ..\\src\\learner.cc:1115: Starting in XGBoost 1.3.0, the default evaluation metric used with the objective 'multi:softprob' was changed from 'merror' to 'mlogloss'. Explicitly set eval_metric if you'd like to restore the old behavior.\n",
      "[CV]  reg_lambda=25.6, reg_alpha=0.8, n_estimators=600, min_child_weight=6, max_depth=100, learning_rate=0.1, gamma=6.4, score=0.734, total=27.5min\n",
      "[CV] reg_lambda=25.6, reg_alpha=0.8, n_estimators=600, min_child_weight=6, max_depth=100, learning_rate=0.1, gamma=6.4 \n",
      "[02:40:35] WARNING: ..\\src\\learner.cc:1115: Starting in XGBoost 1.3.0, the default evaluation metric used with the objective 'multi:softprob' was changed from 'merror' to 'mlogloss'. Explicitly set eval_metric if you'd like to restore the old behavior.\n",
      "[CV]  reg_lambda=25.6, reg_alpha=0.8, n_estimators=600, min_child_weight=6, max_depth=100, learning_rate=0.1, gamma=6.4, score=0.734, total=31.8min\n",
      "[CV] reg_lambda=25.6, reg_alpha=0.8, n_estimators=600, min_child_weight=6, max_depth=100, learning_rate=0.1, gamma=6.4 \n",
      "[03:12:31] WARNING: ..\\src\\learner.cc:1115: Starting in XGBoost 1.3.0, the default evaluation metric used with the objective 'multi:softprob' was changed from 'merror' to 'mlogloss'. Explicitly set eval_metric if you'd like to restore the old behavior.\n",
      "[CV]  reg_lambda=25.6, reg_alpha=0.8, n_estimators=600, min_child_weight=6, max_depth=100, learning_rate=0.1, gamma=6.4, score=0.733, total=28.1min\n",
      "[CV] reg_lambda=25.6, reg_alpha=0.8, n_estimators=600, min_child_weight=6, max_depth=100, learning_rate=0.1, gamma=6.4 \n",
      "[03:40:52] WARNING: ..\\src\\learner.cc:1115: Starting in XGBoost 1.3.0, the default evaluation metric used with the objective 'multi:softprob' was changed from 'merror' to 'mlogloss'. Explicitly set eval_metric if you'd like to restore the old behavior.\n",
      "[CV]  reg_lambda=25.6, reg_alpha=0.8, n_estimators=600, min_child_weight=6, max_depth=100, learning_rate=0.1, gamma=6.4, score=0.734, total=28.5min\n",
      "[CV] reg_lambda=12.8, reg_alpha=0.4, n_estimators=600, min_child_weight=2, max_depth=15, learning_rate=0.03, gamma=0.2 \n",
      "[04:09:39] WARNING: ..\\src\\learner.cc:1115: Starting in XGBoost 1.3.0, the default evaluation metric used with the objective 'multi:softprob' was changed from 'merror' to 'mlogloss'. Explicitly set eval_metric if you'd like to restore the old behavior.\n",
      "[CV]  reg_lambda=12.8, reg_alpha=0.4, n_estimators=600, min_child_weight=2, max_depth=15, learning_rate=0.03, gamma=0.2, score=0.741, total= 9.6min\n",
      "[CV] reg_lambda=12.8, reg_alpha=0.4, n_estimators=600, min_child_weight=2, max_depth=15, learning_rate=0.03, gamma=0.2 \n",
      "[04:18:42] WARNING: ..\\src\\learner.cc:1115: Starting in XGBoost 1.3.0, the default evaluation metric used with the objective 'multi:softprob' was changed from 'merror' to 'mlogloss'. Explicitly set eval_metric if you'd like to restore the old behavior.\n",
      "[CV]  reg_lambda=12.8, reg_alpha=0.4, n_estimators=600, min_child_weight=2, max_depth=15, learning_rate=0.03, gamma=0.2, score=0.741, total= 9.0min\n",
      "[CV] reg_lambda=12.8, reg_alpha=0.4, n_estimators=600, min_child_weight=2, max_depth=15, learning_rate=0.03, gamma=0.2 \n",
      "[04:27:43] WARNING: ..\\src\\learner.cc:1115: Starting in XGBoost 1.3.0, the default evaluation metric used with the objective 'multi:softprob' was changed from 'merror' to 'mlogloss'. Explicitly set eval_metric if you'd like to restore the old behavior.\n",
      "[CV]  reg_lambda=12.8, reg_alpha=0.4, n_estimators=600, min_child_weight=2, max_depth=15, learning_rate=0.03, gamma=0.2, score=0.742, total= 8.9min\n",
      "[CV] reg_lambda=12.8, reg_alpha=0.4, n_estimators=600, min_child_weight=2, max_depth=15, learning_rate=0.03, gamma=0.2 \n",
      "[04:36:56] WARNING: ..\\src\\learner.cc:1115: Starting in XGBoost 1.3.0, the default evaluation metric used with the objective 'multi:softprob' was changed from 'merror' to 'mlogloss'. Explicitly set eval_metric if you'd like to restore the old behavior.\n",
      "[CV]  reg_lambda=12.8, reg_alpha=0.4, n_estimators=600, min_child_weight=2, max_depth=15, learning_rate=0.03, gamma=0.2, score=0.743, total= 9.3min\n",
      "[CV] reg_lambda=51.2, reg_alpha=0.4, n_estimators=10, min_child_weight=4, max_depth=75, learning_rate=0.1, gamma=0.4 \n",
      "[04:46:00] WARNING: ..\\src\\learner.cc:1115: Starting in XGBoost 1.3.0, the default evaluation metric used with the objective 'multi:softprob' was changed from 'merror' to 'mlogloss'. Explicitly set eval_metric if you'd like to restore the old behavior.\n",
      "[CV]  reg_lambda=51.2, reg_alpha=0.4, n_estimators=10, min_child_weight=4, max_depth=75, learning_rate=0.1, gamma=0.4, score=0.718, total=  16.4s\n",
      "[CV] reg_lambda=51.2, reg_alpha=0.4, n_estimators=10, min_child_weight=4, max_depth=75, learning_rate=0.1, gamma=0.4 \n"
     ]
    },
    {
     "name": "stdout",
     "output_type": "stream",
     "text": [
      "[04:46:13] WARNING: ..\\src\\learner.cc:1115: Starting in XGBoost 1.3.0, the default evaluation metric used with the objective 'multi:softprob' was changed from 'merror' to 'mlogloss'. Explicitly set eval_metric if you'd like to restore the old behavior.\n",
      "[CV]  reg_lambda=51.2, reg_alpha=0.4, n_estimators=10, min_child_weight=4, max_depth=75, learning_rate=0.1, gamma=0.4, score=0.718, total=  17.4s\n",
      "[CV] reg_lambda=51.2, reg_alpha=0.4, n_estimators=10, min_child_weight=4, max_depth=75, learning_rate=0.1, gamma=0.4 \n",
      "[04:46:31] WARNING: ..\\src\\learner.cc:1115: Starting in XGBoost 1.3.0, the default evaluation metric used with the objective 'multi:softprob' was changed from 'merror' to 'mlogloss'. Explicitly set eval_metric if you'd like to restore the old behavior.\n",
      "[CV]  reg_lambda=51.2, reg_alpha=0.4, n_estimators=10, min_child_weight=4, max_depth=75, learning_rate=0.1, gamma=0.4, score=0.717, total=  18.3s\n",
      "[CV] reg_lambda=51.2, reg_alpha=0.4, n_estimators=10, min_child_weight=4, max_depth=75, learning_rate=0.1, gamma=0.4 \n",
      "[04:46:49] WARNING: ..\\src\\learner.cc:1115: Starting in XGBoost 1.3.0, the default evaluation metric used with the objective 'multi:softprob' was changed from 'merror' to 'mlogloss'. Explicitly set eval_metric if you'd like to restore the old behavior.\n",
      "[CV]  reg_lambda=51.2, reg_alpha=0.4, n_estimators=10, min_child_weight=4, max_depth=75, learning_rate=0.1, gamma=0.4, score=0.717, total=  17.9s\n",
      "[CV] reg_lambda=3.2, reg_alpha=0.2, n_estimators=800, min_child_weight=2, max_depth=15, learning_rate=0.03, gamma=102.4 \n",
      "[04:47:07] WARNING: ..\\src\\learner.cc:1115: Starting in XGBoost 1.3.0, the default evaluation metric used with the objective 'multi:softprob' was changed from 'merror' to 'mlogloss'. Explicitly set eval_metric if you'd like to restore the old behavior.\n",
      "[CV]  reg_lambda=3.2, reg_alpha=0.2, n_estimators=800, min_child_weight=2, max_depth=15, learning_rate=0.03, gamma=102.4, score=0.676, total=16.5min\n",
      "[CV] reg_lambda=3.2, reg_alpha=0.2, n_estimators=800, min_child_weight=2, max_depth=15, learning_rate=0.03, gamma=102.4 \n",
      "[05:03:42] WARNING: ..\\src\\learner.cc:1115: Starting in XGBoost 1.3.0, the default evaluation metric used with the objective 'multi:softprob' was changed from 'merror' to 'mlogloss'. Explicitly set eval_metric if you'd like to restore the old behavior.\n",
      "[CV]  reg_lambda=3.2, reg_alpha=0.2, n_estimators=800, min_child_weight=2, max_depth=15, learning_rate=0.03, gamma=102.4, score=0.679, total=16.1min\n",
      "[CV] reg_lambda=3.2, reg_alpha=0.2, n_estimators=800, min_child_weight=2, max_depth=15, learning_rate=0.03, gamma=102.4 \n",
      "[05:19:54] WARNING: ..\\src\\learner.cc:1115: Starting in XGBoost 1.3.0, the default evaluation metric used with the objective 'multi:softprob' was changed from 'merror' to 'mlogloss'. Explicitly set eval_metric if you'd like to restore the old behavior.\n",
      "[CV]  reg_lambda=3.2, reg_alpha=0.2, n_estimators=800, min_child_weight=2, max_depth=15, learning_rate=0.03, gamma=102.4, score=0.675, total=17.1min\n",
      "[CV] reg_lambda=3.2, reg_alpha=0.2, n_estimators=800, min_child_weight=2, max_depth=15, learning_rate=0.03, gamma=102.4 \n",
      "[05:37:16] WARNING: ..\\src\\learner.cc:1115: Starting in XGBoost 1.3.0, the default evaluation metric used with the objective 'multi:softprob' was changed from 'merror' to 'mlogloss'. Explicitly set eval_metric if you'd like to restore the old behavior.\n",
      "[CV]  reg_lambda=3.2, reg_alpha=0.2, n_estimators=800, min_child_weight=2, max_depth=15, learning_rate=0.03, gamma=102.4, score=0.676, total=14.7min\n",
      "[CV] reg_lambda=0.4, reg_alpha=102.4, n_estimators=50, min_child_weight=4, max_depth=15, learning_rate=0.5, gamma=0.4 \n",
      "[05:52:14] WARNING: ..\\src\\learner.cc:1115: Starting in XGBoost 1.3.0, the default evaluation metric used with the objective 'multi:softprob' was changed from 'merror' to 'mlogloss'. Explicitly set eval_metric if you'd like to restore the old behavior.\n",
      "[CV]  reg_lambda=0.4, reg_alpha=102.4, n_estimators=50, min_child_weight=4, max_depth=15, learning_rate=0.5, gamma=0.4, score=0.716, total= 1.1min\n",
      "[CV] reg_lambda=0.4, reg_alpha=102.4, n_estimators=50, min_child_weight=4, max_depth=15, learning_rate=0.5, gamma=0.4 \n",
      "[05:52:45] WARNING: ..\\src\\learner.cc:1115: Starting in XGBoost 1.3.0, the default evaluation metric used with the objective 'multi:softprob' was changed from 'merror' to 'mlogloss'. Explicitly set eval_metric if you'd like to restore the old behavior.\n",
      "[CV]  reg_lambda=0.4, reg_alpha=102.4, n_estimators=50, min_child_weight=4, max_depth=15, learning_rate=0.5, gamma=0.4, score=0.716, total=  36.5s\n",
      "[CV] reg_lambda=0.4, reg_alpha=102.4, n_estimators=50, min_child_weight=4, max_depth=15, learning_rate=0.5, gamma=0.4 \n",
      "[05:53:22] WARNING: ..\\src\\learner.cc:1115: Starting in XGBoost 1.3.0, the default evaluation metric used with the objective 'multi:softprob' was changed from 'merror' to 'mlogloss'. Explicitly set eval_metric if you'd like to restore the old behavior.\n",
      "[CV]  reg_lambda=0.4, reg_alpha=102.4, n_estimators=50, min_child_weight=4, max_depth=15, learning_rate=0.5, gamma=0.4, score=0.717, total=  35.8s\n",
      "[CV] reg_lambda=0.4, reg_alpha=102.4, n_estimators=50, min_child_weight=4, max_depth=15, learning_rate=0.5, gamma=0.4 \n",
      "[05:53:58] WARNING: ..\\src\\learner.cc:1115: Starting in XGBoost 1.3.0, the default evaluation metric used with the objective 'multi:softprob' was changed from 'merror' to 'mlogloss'. Explicitly set eval_metric if you'd like to restore the old behavior.\n",
      "[CV]  reg_lambda=0.4, reg_alpha=102.4, n_estimators=50, min_child_weight=4, max_depth=15, learning_rate=0.5, gamma=0.4, score=0.714, total=  36.1s\n",
      "[CV] reg_lambda=51.2, reg_alpha=6.4, n_estimators=10, min_child_weight=1, max_depth=5, learning_rate=0.05, gamma=102.4 \n",
      "[05:54:33] WARNING: ..\\src\\learner.cc:1115: Starting in XGBoost 1.3.0, the default evaluation metric used with the objective 'multi:softprob' was changed from 'merror' to 'mlogloss'. Explicitly set eval_metric if you'd like to restore the old behavior.\n",
      "[CV]  reg_lambda=51.2, reg_alpha=6.4, n_estimators=10, min_child_weight=1, max_depth=5, learning_rate=0.05, gamma=102.4, score=0.649, total=   2.6s\n",
      "[CV] reg_lambda=51.2, reg_alpha=6.4, n_estimators=10, min_child_weight=1, max_depth=5, learning_rate=0.05, gamma=102.4 \n",
      "[05:54:36] WARNING: ..\\src\\learner.cc:1115: Starting in XGBoost 1.3.0, the default evaluation metric used with the objective 'multi:softprob' was changed from 'merror' to 'mlogloss'. Explicitly set eval_metric if you'd like to restore the old behavior.\n",
      "[CV]  reg_lambda=51.2, reg_alpha=6.4, n_estimators=10, min_child_weight=1, max_depth=5, learning_rate=0.05, gamma=102.4, score=0.653, total=   2.7s\n",
      "[CV] reg_lambda=51.2, reg_alpha=6.4, n_estimators=10, min_child_weight=1, max_depth=5, learning_rate=0.05, gamma=102.4 \n",
      "[05:54:39] WARNING: ..\\src\\learner.cc:1115: Starting in XGBoost 1.3.0, the default evaluation metric used with the objective 'multi:softprob' was changed from 'merror' to 'mlogloss'. Explicitly set eval_metric if you'd like to restore the old behavior.\n",
      "[CV]  reg_lambda=51.2, reg_alpha=6.4, n_estimators=10, min_child_weight=1, max_depth=5, learning_rate=0.05, gamma=102.4, score=0.649, total=   2.6s\n",
      "[CV] reg_lambda=51.2, reg_alpha=6.4, n_estimators=10, min_child_weight=1, max_depth=5, learning_rate=0.05, gamma=102.4 \n",
      "[05:54:41] WARNING: ..\\src\\learner.cc:1115: Starting in XGBoost 1.3.0, the default evaluation metric used with the objective 'multi:softprob' was changed from 'merror' to 'mlogloss'. Explicitly set eval_metric if you'd like to restore the old behavior.\n",
      "[CV]  reg_lambda=51.2, reg_alpha=6.4, n_estimators=10, min_child_weight=1, max_depth=5, learning_rate=0.05, gamma=102.4, score=0.650, total=   2.6s\n"
     ]
    },
    {
     "name": "stderr",
     "output_type": "stream",
     "text": [
      "[Parallel(n_jobs=1)]: Done  40 out of  40 | elapsed: 435.0min finished\n"
     ]
    },
    {
     "name": "stdout",
     "output_type": "stream",
     "text": [
      "[05:54:45] WARNING: ..\\src\\learner.cc:1115: Starting in XGBoost 1.3.0, the default evaluation metric used with the objective 'multi:softprob' was changed from 'merror' to 'mlogloss'. Explicitly set eval_metric if you'd like to restore the old behavior.\n",
      "XGBClassifier(base_score=0.5, booster='gbtree', colsample_bylevel=1,\n",
      "              colsample_bynode=1, colsample_bytree=1, enable_categorical=False,\n",
      "              gamma=0.2, gpu_id=-1, importance_type=None,\n",
      "              interaction_constraints='', learning_rate=0.03, max_delta_step=0,\n",
      "              max_depth=15, min_child_weight=2, missing=nan,\n",
      "              monotone_constraints='()', n_estimators=600, n_jobs=12,\n",
      "              num_parallel_tree=1, objective='multi:softprob', predictor='auto',\n",
      "              random_state=0, reg_alpha=0.4, reg_lambda=12.8,\n",
      "              scale_pos_weight=None, subsample=1, tree_method='exact',\n",
      "              validate_parameters=1, verbosity=None)\n",
      "{'reg_lambda': 12.8, 'reg_alpha': 0.4, 'n_estimators': 600, 'min_child_weight': 2, 'max_depth': 15, 'learning_rate': 0.03, 'gamma': 0.2}\n",
      "0.7419075637417925\n"
     ]
    }
   ],
   "source": [
    "#tuning XGBClassifier model\n",
    "\n",
    "#define parameter for XGBClassifier\n",
    "params_2 = {'n_estimators':[10, 50, 100, 200, 400, 600, 800, 1000],\n",
    "            'learning_rate':[0.03, 0.01, 0.05, 0.1, 0.5],\n",
    "            'max_depth':[5, 10, 15, 30, 45, 60, 75, 90, 100],\n",
    "            'min_child_weight': [1, 2, 3, 4, 5, 6],\n",
    "            'gamma' : [0, 0.1, 0.2, 0.4, 0.8, 1.6, 3.2, 6.4, 12.8, 25.6, 51.2, 102.4, 200],\n",
    "            'reg_alpha': [0, 0.1, 0.2, 0.4, 0.8, 1.6, 3.2, 6.4, 12.8, 25.6, 51.2, 102.4, 200],\n",
    "            'reg_lambda': [0, 0.1, 0.2, 0.4, 0.8, 1.6, 3.2, 6.4, 12.8, 25.6, 51.2, 102.4, 200]\n",
    "         }\n",
    "\n",
    "xgb = XGBClassifier()\n",
    "\n",
    "random_search_2 = RandomizedSearchCV(estimator=xgb, \n",
    "                                   param_distributions=params_2, \n",
    "                                   scoring='accuracy', \n",
    "                                   verbose=10,\n",
    "                                   cv = 4)\n",
    "random_search_2.fit(X_train_prep, y_train)\n",
    "\n",
    "print(random_search_2.best_estimator_)\n",
    "print(random_search_2.best_params_)\n",
    "print(random_search_2.best_score_)"
   ]
  },
  {
   "cell_type": "code",
   "execution_count": 48,
   "metadata": {},
   "outputs": [
    {
     "data": {
      "text/plain": [
       "0.744829438624765"
      ]
     },
     "execution_count": 48,
     "metadata": {},
     "output_type": "execute_result"
    }
   ],
   "source": [
    "#predicting validation data with optimized xgb model\n",
    "xgb_val = random_search_2.predict(X_val_prep)\n",
    "\n",
    "#optimized model accuracy\n",
    "accuracy_score(y_val, xgb_val)"
   ]
  },
  {
   "cell_type": "markdown",
   "metadata": {},
   "source": [
    "After hyperparameter tuning was done on both models, it turns out that the XGBClassifier model has a higher accuracy of around 0.7448 while the best model from RandomForestClassifier has an accuracy of 0.7265. So to predict the test dataset, an optimized XGB model will be used."
   ]
  },
  {
   "cell_type": "markdown",
   "metadata": {},
   "source": [
    "#### PREDICT TEST DATA"
   ]
  },
  {
   "cell_type": "code",
   "execution_count": 49,
   "metadata": {},
   "outputs": [],
   "source": [
    "#preprocessing test data\n",
    "X_test_prep = preprocessor.transform(test_values)"
   ]
  },
  {
   "cell_type": "code",
   "execution_count": 51,
   "metadata": {},
   "outputs": [
    {
     "data": {
      "text/plain": [
       "array([3, 2, 2, ..., 2, 2, 1], dtype=int64)"
      ]
     },
     "execution_count": 51,
     "metadata": {},
     "output_type": "execute_result"
    }
   ],
   "source": [
    "#predict test data\n",
    "model_predict = random_search_2.predict(X_test_prep)\n",
    "model_predict"
   ]
  },
  {
   "cell_type": "markdown",
   "metadata": {},
   "source": [
    "#### SUBMISSION"
   ]
  },
  {
   "cell_type": "code",
   "execution_count": 52,
   "metadata": {},
   "outputs": [
    {
     "data": {
      "text/html": [
       "<div>\n",
       "<style scoped>\n",
       "    .dataframe tbody tr th:only-of-type {\n",
       "        vertical-align: middle;\n",
       "    }\n",
       "\n",
       "    .dataframe tbody tr th {\n",
       "        vertical-align: top;\n",
       "    }\n",
       "\n",
       "    .dataframe thead th {\n",
       "        text-align: right;\n",
       "    }\n",
       "</style>\n",
       "<table border=\"1\" class=\"dataframe\">\n",
       "  <thead>\n",
       "    <tr style=\"text-align: right;\">\n",
       "      <th></th>\n",
       "      <th>building_id</th>\n",
       "      <th>damage_grade</th>\n",
       "    </tr>\n",
       "  </thead>\n",
       "  <tbody>\n",
       "    <tr>\n",
       "      <th>0</th>\n",
       "      <td>300051</td>\n",
       "      <td>3</td>\n",
       "    </tr>\n",
       "    <tr>\n",
       "      <th>1</th>\n",
       "      <td>99355</td>\n",
       "      <td>2</td>\n",
       "    </tr>\n",
       "    <tr>\n",
       "      <th>2</th>\n",
       "      <td>890251</td>\n",
       "      <td>2</td>\n",
       "    </tr>\n",
       "    <tr>\n",
       "      <th>3</th>\n",
       "      <td>745817</td>\n",
       "      <td>1</td>\n",
       "    </tr>\n",
       "    <tr>\n",
       "      <th>4</th>\n",
       "      <td>421793</td>\n",
       "      <td>3</td>\n",
       "    </tr>\n",
       "  </tbody>\n",
       "</table>\n",
       "</div>"
      ],
      "text/plain": [
       "   building_id  damage_grade\n",
       "0       300051             3\n",
       "1        99355             2\n",
       "2       890251             2\n",
       "3       745817             1\n",
       "4       421793             3"
      ]
     },
     "execution_count": 52,
     "metadata": {},
     "output_type": "execute_result"
    }
   ],
   "source": [
    "submission_format.head()"
   ]
  },
  {
   "cell_type": "code",
   "execution_count": 53,
   "metadata": {},
   "outputs": [
    {
     "data": {
      "text/html": [
       "<div>\n",
       "<style scoped>\n",
       "    .dataframe tbody tr th:only-of-type {\n",
       "        vertical-align: middle;\n",
       "    }\n",
       "\n",
       "    .dataframe tbody tr th {\n",
       "        vertical-align: top;\n",
       "    }\n",
       "\n",
       "    .dataframe thead th {\n",
       "        text-align: right;\n",
       "    }\n",
       "</style>\n",
       "<table border=\"1\" class=\"dataframe\">\n",
       "  <thead>\n",
       "    <tr style=\"text-align: right;\">\n",
       "      <th></th>\n",
       "      <th>building_id</th>\n",
       "      <th>damage_grade</th>\n",
       "    </tr>\n",
       "  </thead>\n",
       "  <tbody>\n",
       "    <tr>\n",
       "      <th>0</th>\n",
       "      <td>300051</td>\n",
       "      <td>3</td>\n",
       "    </tr>\n",
       "    <tr>\n",
       "      <th>1</th>\n",
       "      <td>99355</td>\n",
       "      <td>2</td>\n",
       "    </tr>\n",
       "    <tr>\n",
       "      <th>2</th>\n",
       "      <td>890251</td>\n",
       "      <td>2</td>\n",
       "    </tr>\n",
       "    <tr>\n",
       "      <th>3</th>\n",
       "      <td>745817</td>\n",
       "      <td>1</td>\n",
       "    </tr>\n",
       "    <tr>\n",
       "      <th>4</th>\n",
       "      <td>421793</td>\n",
       "      <td>3</td>\n",
       "    </tr>\n",
       "    <tr>\n",
       "      <th>...</th>\n",
       "      <td>...</td>\n",
       "      <td>...</td>\n",
       "    </tr>\n",
       "    <tr>\n",
       "      <th>86863</th>\n",
       "      <td>310028</td>\n",
       "      <td>2</td>\n",
       "    </tr>\n",
       "    <tr>\n",
       "      <th>86864</th>\n",
       "      <td>663567</td>\n",
       "      <td>2</td>\n",
       "    </tr>\n",
       "    <tr>\n",
       "      <th>86865</th>\n",
       "      <td>1049160</td>\n",
       "      <td>2</td>\n",
       "    </tr>\n",
       "    <tr>\n",
       "      <th>86866</th>\n",
       "      <td>442785</td>\n",
       "      <td>2</td>\n",
       "    </tr>\n",
       "    <tr>\n",
       "      <th>86867</th>\n",
       "      <td>501372</td>\n",
       "      <td>1</td>\n",
       "    </tr>\n",
       "  </tbody>\n",
       "</table>\n",
       "<p>86868 rows × 2 columns</p>\n",
       "</div>"
      ],
      "text/plain": [
       "       building_id  damage_grade\n",
       "0           300051             3\n",
       "1            99355             2\n",
       "2           890251             2\n",
       "3           745817             1\n",
       "4           421793             3\n",
       "...            ...           ...\n",
       "86863       310028             2\n",
       "86864       663567             2\n",
       "86865      1049160             2\n",
       "86866       442785             2\n",
       "86867       501372             1\n",
       "\n",
       "[86868 rows x 2 columns]"
      ]
     },
     "execution_count": 53,
     "metadata": {},
     "output_type": "execute_result"
    }
   ],
   "source": [
    "submission_format[\"damage_grade\"] = model_predict\n",
    "submission_format.to_csv('modelling_earthquake_damage.csv',\n",
    "                        index=False)\n",
    "submission_format"
   ]
  },
  {
   "cell_type": "code",
   "execution_count": 54,
   "metadata": {},
   "outputs": [
    {
     "data": {
      "text/plain": [
       "[Text(0, 0.5, 'Count'),\n",
       " Text(0.5, 0, 'damage_grade'),\n",
       " Text(0.5, 1.0, 'Countplot of Damage Grade')]"
      ]
     },
     "execution_count": 54,
     "metadata": {},
     "output_type": "execute_result"
    },
    {
     "data": {
      "image/png": "[encoded data removed]",
      "text/plain": [
       "<Figure size 432x360 with 1 Axes>"
      ]
     },
     "metadata": {},
     "output_type": "display_data"
    }
   ],
   "source": [
    "#damage_grade countplot\n",
    "sns.set(style=\"ticks\", color_codes=True)\n",
    "ax = sns.countplot(submission_format[\"damage_grade\"])\n",
    "ax.set(ylabel='Count', \n",
    "       xlabel='damage_grade', \n",
    "       title='Countplot of Damage Grade')"
   ]
  },
  {
   "cell_type": "markdown",
   "metadata": {},
   "source": [
    "Based on the prediction results, it can be concluded that the buildings in the test data are dominated by level two damage, followed by level three damage and the least damage is level one."
   ]
  },
  {
   "cell_type": "markdown",
   "metadata": {},
   "source": [
    "This prediction result gets a score of **0.7441** on DataDriven which is better than the other 93% of participants."
   ]
  }
 ],
 "metadata": {
  "kernelspec": {
   "display_name": "Python 3",
   "language": "python",
   "name": "python3"
  },
  "language_info": {
   "codemirror_mode": {
    "name": "ipython",
    "version": 3
   },
   "file_extension": ".py",
   "mimetype": "text/x-python",
   "name": "python",
   "nbconvert_exporter": "python",
   "pygments_lexer": "ipython3",
   "version": "3.8.5"
  }
 },
 "nbformat": 4,
 "nbformat_minor": 4
}
